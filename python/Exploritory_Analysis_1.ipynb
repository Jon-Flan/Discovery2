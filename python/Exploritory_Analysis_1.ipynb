{
 "cells": [
  {
   "cell_type": "markdown",
   "id": "f2c79773",
   "metadata": {},
   "source": [
    "# Exploritory Analysis Ⅰ"
   ]
  },
  {
   "cell_type": "markdown",
   "id": "4f2addf7",
   "metadata": {},
   "source": [
    "Exploritory Analysis of the Datasets to be used for <br>\n",
    "Machine Learning Predictions of Exoplanet candidates <br>\n",
    "\n",
    "The analyis will look briefly at:\n",
    "- The Confirmed Planets datset being used.\n",
    "- The main features of the dataset\n",
    "- If any of the features will be needed for the Classification Machine Learning\n"
   ]
  },
  {
   "cell_type": "code",
   "execution_count": 1,
   "id": "2084f5d0",
   "metadata": {},
   "outputs": [],
   "source": [
    "#imports\n",
    "import pandas as pd\n",
    "import numpy as np\n",
    "import lightkurve as lk\n",
    "import matplotlib.pyplot as plt\n",
    "import seaborn as sn"
   ]
  },
  {
   "cell_type": "markdown",
   "id": "76c98457",
   "metadata": {},
   "source": [
    "### Kepler Confirmed Exoplanets"
   ]
  },
  {
   "cell_type": "markdown",
   "id": "1bffa1e1",
   "metadata": {},
   "source": [
    "Kepler confirmed exoplanets are downloaded from through the MAST API and give details <br>\n",
    "on the exoplanet such as the star name it orbits, the star mass, brightness, and the orbital <br>\n",
    "period of the confirmed exoplanet"
   ]
  },
  {
   "cell_type": "code",
   "execution_count": 2,
   "id": "66cba284",
   "metadata": {},
   "outputs": [],
   "source": [
    "# data downloaded in csv format from API query string given by MAST\n",
    "confirmed_file=(\"https://exoplanetarchive.ipac.caltech.edu/TAP/sync?query=select+*+from+pscomppars&format=csv\")\n",
    "\n",
    "\n",
    "# dataframe object of the csv\n",
    "confirmed_df = pd.read_csv(confirmed_file, low_memory=False)"
   ]
  },
  {
   "cell_type": "code",
   "execution_count": 3,
   "id": "82b2309d",
   "metadata": {},
   "outputs": [
    {
     "data": {
      "text/plain": [
       "(4884, 373)"
      ]
     },
     "execution_count": 3,
     "metadata": {},
     "output_type": "execute_result"
    }
   ],
   "source": [
    "# basic details on the dataframe\n",
    "confirmed_df.shape"
   ]
  },
  {
   "cell_type": "markdown",
   "id": "c6101a85",
   "metadata": {},
   "source": [
    "The dataframe contains 4,884 rows and 373 columns"
   ]
  },
  {
   "cell_type": "code",
   "execution_count": 4,
   "id": "a6346b9d",
   "metadata": {
    "scrolled": false
   },
   "outputs": [
    {
     "data": {
      "text/html": [
       "<div>\n",
       "<style scoped>\n",
       "    .dataframe tbody tr th:only-of-type {\n",
       "        vertical-align: middle;\n",
       "    }\n",
       "\n",
       "    .dataframe tbody tr th {\n",
       "        vertical-align: top;\n",
       "    }\n",
       "\n",
       "    .dataframe thead th {\n",
       "        text-align: right;\n",
       "    }\n",
       "</style>\n",
       "<table border=\"1\" class=\"dataframe\">\n",
       "  <thead>\n",
       "    <tr style=\"text-align: right;\">\n",
       "      <th></th>\n",
       "      <th>pl_name</th>\n",
       "      <th>pl_letter</th>\n",
       "      <th>hostname</th>\n",
       "      <th>hd_name</th>\n",
       "      <th>hip_name</th>\n",
       "      <th>tic_id</th>\n",
       "      <th>disc_pubdate</th>\n",
       "      <th>disc_year</th>\n",
       "      <th>discoverymethod</th>\n",
       "      <th>disc_locale</th>\n",
       "      <th>...</th>\n",
       "      <th>sy_pmstr</th>\n",
       "      <th>sy_pm_reflink</th>\n",
       "      <th>sy_pmra</th>\n",
       "      <th>sy_pmraerr1</th>\n",
       "      <th>sy_pmraerr2</th>\n",
       "      <th>sy_pmrastr</th>\n",
       "      <th>x</th>\n",
       "      <th>y</th>\n",
       "      <th>z</th>\n",
       "      <th>htm20</th>\n",
       "    </tr>\n",
       "  </thead>\n",
       "  <tbody>\n",
       "    <tr>\n",
       "      <th>0</th>\n",
       "      <td>OGLE-2016-BLG-1227L b</td>\n",
       "      <td>b</td>\n",
       "      <td>OGLE-2016-BLG-1227L</td>\n",
       "      <td>NaN</td>\n",
       "      <td>NaN</td>\n",
       "      <td>NaN</td>\n",
       "      <td>2020-03</td>\n",
       "      <td>2020</td>\n",
       "      <td>Microlensing</td>\n",
       "      <td>Ground</td>\n",
       "      <td>...</td>\n",
       "      <td>NaN</td>\n",
       "      <td>&lt;a refstr=HAN_ET_AL__2020 href=https://ui.adsa...</td>\n",
       "      <td>NaN</td>\n",
       "      <td>NaN</td>\n",
       "      <td>NaN</td>\n",
       "      <td>NaN</td>\n",
       "      <td>-0.063824</td>\n",
       "      <td>-0.828921</td>\n",
       "      <td>-0.555712</td>\n",
       "      <td>-768415656</td>\n",
       "    </tr>\n",
       "    <tr>\n",
       "      <th>1</th>\n",
       "      <td>GJ 480 b</td>\n",
       "      <td>b</td>\n",
       "      <td>GJ 480</td>\n",
       "      <td>NaN</td>\n",
       "      <td>HIP 61706</td>\n",
       "      <td>TIC 399119319</td>\n",
       "      <td>2020-08</td>\n",
       "      <td>2020</td>\n",
       "      <td>Radial Velocity</td>\n",
       "      <td>Ground</td>\n",
       "      <td>...</td>\n",
       "      <td>1182.6515022&amp;plusmn;0.1711173</td>\n",
       "      <td>&lt;a refstr=STASSUN_ET_AL__2019 href=https://ui....</td>\n",
       "      <td>-1155.70000</td>\n",
       "      <td>0.172518</td>\n",
       "      <td>-0.172518</td>\n",
       "      <td>-1155.700000&amp;plusmn;0.172518</td>\n",
       "      <td>-0.965202</td>\n",
       "      <td>-0.165218</td>\n",
       "      <td>0.202703</td>\n",
       "      <td>669768942</td>\n",
       "    </tr>\n",
       "    <tr>\n",
       "      <th>2</th>\n",
       "      <td>Kepler-276 c</td>\n",
       "      <td>c</td>\n",
       "      <td>Kepler-276</td>\n",
       "      <td>NaN</td>\n",
       "      <td>NaN</td>\n",
       "      <td>TIC 138213510</td>\n",
       "      <td>2014-02</td>\n",
       "      <td>2013</td>\n",
       "      <td>Transit</td>\n",
       "      <td>Space</td>\n",
       "      <td>...</td>\n",
       "      <td>8.0702604&amp;plusmn;0.0515101</td>\n",
       "      <td>&lt;a refstr=STASSUN_ET_AL__2019 href=https://ui....</td>\n",
       "      <td>7.99553</td>\n",
       "      <td>0.051581</td>\n",
       "      <td>-0.051581</td>\n",
       "      <td>7.9955300&amp;plusmn;0.0515805</td>\n",
       "      <td>0.310575</td>\n",
       "      <td>-0.711954</td>\n",
       "      <td>0.629813</td>\n",
       "      <td>1302657699</td>\n",
       "    </tr>\n",
       "    <tr>\n",
       "      <th>3</th>\n",
       "      <td>Kepler-829 b</td>\n",
       "      <td>b</td>\n",
       "      <td>Kepler-829</td>\n",
       "      <td>NaN</td>\n",
       "      <td>NaN</td>\n",
       "      <td>TIC 123451768</td>\n",
       "      <td>2016-05</td>\n",
       "      <td>2016</td>\n",
       "      <td>Transit</td>\n",
       "      <td>Space</td>\n",
       "      <td>...</td>\n",
       "      <td>8.3089089&amp;plusmn;0.0412978</td>\n",
       "      <td>&lt;a refstr=STASSUN_ET_AL__2019 href=https://ui....</td>\n",
       "      <td>7.93777</td>\n",
       "      <td>0.040833</td>\n",
       "      <td>-0.040833</td>\n",
       "      <td>7.9377700&amp;plusmn;0.0408326</td>\n",
       "      <td>0.157566</td>\n",
       "      <td>-0.720680</td>\n",
       "      <td>0.675124</td>\n",
       "      <td>-792260935</td>\n",
       "    </tr>\n",
       "    <tr>\n",
       "      <th>4</th>\n",
       "      <td>K2-283 b</td>\n",
       "      <td>b</td>\n",
       "      <td>K2-283</td>\n",
       "      <td>NaN</td>\n",
       "      <td>NaN</td>\n",
       "      <td>TIC 266017624</td>\n",
       "      <td>2018-12</td>\n",
       "      <td>2018</td>\n",
       "      <td>Transit</td>\n",
       "      <td>Space</td>\n",
       "      <td>...</td>\n",
       "      <td>11.1101761&amp;plusmn;0.0531852</td>\n",
       "      <td>&lt;a refstr=STASSUN_ET_AL__2019 href=https://ui....</td>\n",
       "      <td>-10.97340</td>\n",
       "      <td>0.053624</td>\n",
       "      <td>-0.053624</td>\n",
       "      <td>-10.9734000&amp;plusmn;0.0536244</td>\n",
       "      <td>0.959702</td>\n",
       "      <td>0.224997</td>\n",
       "      <td>0.168368</td>\n",
       "      <td>609813555</td>\n",
       "    </tr>\n",
       "  </tbody>\n",
       "</table>\n",
       "<p>5 rows × 373 columns</p>\n",
       "</div>"
      ],
      "text/plain": [
       "                 pl_name pl_letter             hostname hd_name   hip_name  \\\n",
       "0  OGLE-2016-BLG-1227L b         b  OGLE-2016-BLG-1227L     NaN        NaN   \n",
       "1               GJ 480 b         b               GJ 480     NaN  HIP 61706   \n",
       "2           Kepler-276 c         c           Kepler-276     NaN        NaN   \n",
       "3           Kepler-829 b         b           Kepler-829     NaN        NaN   \n",
       "4               K2-283 b         b               K2-283     NaN        NaN   \n",
       "\n",
       "          tic_id disc_pubdate  disc_year  discoverymethod disc_locale  ...  \\\n",
       "0            NaN      2020-03       2020     Microlensing      Ground  ...   \n",
       "1  TIC 399119319      2020-08       2020  Radial Velocity      Ground  ...   \n",
       "2  TIC 138213510      2014-02       2013          Transit       Space  ...   \n",
       "3  TIC 123451768      2016-05       2016          Transit       Space  ...   \n",
       "4  TIC 266017624      2018-12       2018          Transit       Space  ...   \n",
       "\n",
       "                        sy_pmstr  \\\n",
       "0                            NaN   \n",
       "1  1182.6515022&plusmn;0.1711173   \n",
       "2     8.0702604&plusmn;0.0515101   \n",
       "3     8.3089089&plusmn;0.0412978   \n",
       "4    11.1101761&plusmn;0.0531852   \n",
       "\n",
       "                                       sy_pm_reflink     sy_pmra sy_pmraerr1  \\\n",
       "0  <a refstr=HAN_ET_AL__2020 href=https://ui.adsa...         NaN         NaN   \n",
       "1  <a refstr=STASSUN_ET_AL__2019 href=https://ui.... -1155.70000    0.172518   \n",
       "2  <a refstr=STASSUN_ET_AL__2019 href=https://ui....     7.99553    0.051581   \n",
       "3  <a refstr=STASSUN_ET_AL__2019 href=https://ui....     7.93777    0.040833   \n",
       "4  <a refstr=STASSUN_ET_AL__2019 href=https://ui....   -10.97340    0.053624   \n",
       "\n",
       "   sy_pmraerr2                    sy_pmrastr         x         y         z  \\\n",
       "0          NaN                           NaN -0.063824 -0.828921 -0.555712   \n",
       "1    -0.172518  -1155.700000&plusmn;0.172518 -0.965202 -0.165218  0.202703   \n",
       "2    -0.051581    7.9955300&plusmn;0.0515805  0.310575 -0.711954  0.629813   \n",
       "3    -0.040833    7.9377700&plusmn;0.0408326  0.157566 -0.720680  0.675124   \n",
       "4    -0.053624  -10.9734000&plusmn;0.0536244  0.959702  0.224997  0.168368   \n",
       "\n",
       "        htm20  \n",
       "0  -768415656  \n",
       "1   669768942  \n",
       "2  1302657699  \n",
       "3  -792260935  \n",
       "4   609813555  \n",
       "\n",
       "[5 rows x 373 columns]"
      ]
     },
     "execution_count": 4,
     "metadata": {},
     "output_type": "execute_result"
    }
   ],
   "source": [
    "# print first 5 rows of dataset\n",
    "confirmed_df.head()"
   ]
  },
  {
   "cell_type": "code",
   "execution_count": 5,
   "id": "f7ea67a1",
   "metadata": {
    "scrolled": true
   },
   "outputs": [
    {
     "name": "stdout",
     "output_type": "stream",
     "text": [
      "<class 'pandas.core.frame.DataFrame'>\n",
      "RangeIndex: 4884 entries, 0 to 4883\n",
      "Data columns (total 373 columns):\n",
      " #    Column                Dtype  \n",
      "---   ------                -----  \n",
      " 0    pl_name               object \n",
      " 1    pl_letter             object \n",
      " 2    hostname              object \n",
      " 3    hd_name               object \n",
      " 4    hip_name              object \n",
      " 5    tic_id                object \n",
      " 6    disc_pubdate          object \n",
      " 7    disc_year             int64  \n",
      " 8    discoverymethod       object \n",
      " 9    disc_locale           object \n",
      " 10   disc_facility         object \n",
      " 11   disc_instrument       object \n",
      " 12   disc_telescope        object \n",
      " 13   disc_refname          object \n",
      " 14   ra                    float64\n",
      " 15   rastr                 object \n",
      " 16   dec                   float64\n",
      " 17   decstr                object \n",
      " 18   glon                  float64\n",
      " 19   glat                  float64\n",
      " 20   elon                  float64\n",
      " 21   elat                  float64\n",
      " 22   ra_reflink            object \n",
      " 23   pl_orbper             float64\n",
      " 24   pl_orbpererr1         float64\n",
      " 25   pl_orbpererr2         float64\n",
      " 26   pl_orbperlim          float64\n",
      " 27   pl_orbperstr          object \n",
      " 28   pl_orbper_reflink     object \n",
      " 29   pl_orblpererr1        float64\n",
      " 30   pl_orblper            float64\n",
      " 31   pl_orblpererr2        float64\n",
      " 32   pl_orblperlim         float64\n",
      " 33   pl_orblperstr         object \n",
      " 34   pl_orblper_reflink    object \n",
      " 35   pl_orbsmax            float64\n",
      " 36   pl_orbsmaxerr1        float64\n",
      " 37   pl_orbsmaxerr2        float64\n",
      " 38   pl_orbsmaxlim         float64\n",
      " 39   pl_orbsmaxstr         object \n",
      " 40   pl_orbsmax_reflink    object \n",
      " 41   pl_orbincl            float64\n",
      " 42   pl_orbinclerr1        float64\n",
      " 43   pl_orbinclerr2        float64\n",
      " 44   pl_orbincllim         float64\n",
      " 45   pl_orbinclstr         object \n",
      " 46   pl_orbincl_reflink    object \n",
      " 47   pl_orbtper            float64\n",
      " 48   pl_orbtpererr1        float64\n",
      " 49   pl_orbtpererr2        float64\n",
      " 50   pl_orbtperlim         float64\n",
      " 51   pl_orbtperstr         object \n",
      " 52   pl_orbtper_reflink    object \n",
      " 53   pl_orbeccen           float64\n",
      " 54   pl_orbeccenerr1       float64\n",
      " 55   pl_orbeccenerr2       float64\n",
      " 56   pl_orbeccenlim        float64\n",
      " 57   pl_orbeccenstr        object \n",
      " 58   pl_orbeccen_reflink   object \n",
      " 59   pl_eqt                float64\n",
      " 60   pl_eqterr1            float64\n",
      " 61   pl_eqterr2            float64\n",
      " 62   pl_eqtlim             float64\n",
      " 63   pl_eqtstr             object \n",
      " 64   pl_eqt_reflink        object \n",
      " 65   pl_occdep             float64\n",
      " 66   pl_occdeperr1         float64\n",
      " 67   pl_occdeperr2         float64\n",
      " 68   pl_occdeplim          float64\n",
      " 69   pl_occdepstr          object \n",
      " 70   pl_occdep_reflink     object \n",
      " 71   pl_insol              float64\n",
      " 72   pl_insolerr1          float64\n",
      " 73   pl_insolerr2          float64\n",
      " 74   pl_insollim           float64\n",
      " 75   pl_insolstr           object \n",
      " 76   pl_insol_reflink      object \n",
      " 77   pl_dens               float64\n",
      " 78   pl_denserr1           float64\n",
      " 79   pl_denserr2           float64\n",
      " 80   pl_denslim            float64\n",
      " 81   pl_densstr            object \n",
      " 82   pl_dens_reflink       object \n",
      " 83   pl_trandep            float64\n",
      " 84   pl_trandeperr1        float64\n",
      " 85   pl_trandeperr2        float64\n",
      " 86   pl_trandeplim         float64\n",
      " 87   pl_trandepstr         object \n",
      " 88   pl_trandep_reflink    object \n",
      " 89   pl_tranmid            float64\n",
      " 90   pl_tranmiderr1        float64\n",
      " 91   pl_tranmiderr2        float64\n",
      " 92   pl_tranmidlim         float64\n",
      " 93   pl_tranmidstr         object \n",
      " 94   sy_pmdec              float64\n",
      " 95   sy_pmdecerr1          float64\n",
      " 96   sy_pmdecerr2          float64\n",
      " 97   sy_pmdecstr           object \n",
      " 98   sy_plx                float64\n",
      " 99   sy_plxerr1            float64\n",
      " 100  sy_plxerr2            float64\n",
      " 101  sy_plxstr             object \n",
      " 102  sy_plx_reflink        object \n",
      " 103  sy_dist               float64\n",
      " 104  sy_disterr1           float64\n",
      " 105  sy_disterr2           float64\n",
      " 106  sy_diststr            object \n",
      " 107  sy_dist_reflink       object \n",
      " 108  sy_bmag               float64\n",
      " 109  sy_bmagerr1           float64\n",
      " 110  sy_bmagerr2           float64\n",
      " 111  sy_bmagstr            object \n",
      " 112  sy_bmag_reflink       object \n",
      " 113  sy_vmag               float64\n",
      " 114  sy_vmagerr1           float64\n",
      " 115  sy_vmagerr2           float64\n",
      " 116  sy_vmagstr            object \n",
      " 117  sy_vmag_reflink       object \n",
      " 118  sy_jmag               float64\n",
      " 119  sy_jmagerr1           float64\n",
      " 120  sy_jmagerr2           float64\n",
      " 121  sy_jmagstr            object \n",
      " 122  sy_jmag_reflink       object \n",
      " 123  sy_hmag               float64\n",
      " 124  sy_hmagerr1           float64\n",
      " 125  sy_hmagerr2           float64\n",
      " 126  sy_hmagstr            object \n",
      " 127  sy_hmag_reflink       object \n",
      " 128  sy_kmag               float64\n",
      " 129  sy_kmagerr1           float64\n",
      " 130  sy_kmagerr2           float64\n",
      " 131  sy_kmagstr            object \n",
      " 132  sy_kmag_reflink       object \n",
      " 133  sy_umag               float64\n",
      " 134  sy_umagerr1           float64\n",
      " 135  sy_umagerr2           float64\n",
      " 136  sy_umagstr            object \n",
      " 137  sy_umag_reflink       object \n",
      " 138  sy_rmag               float64\n",
      " 139  sy_rmagerr1           float64\n",
      " 140  sy_rmagerr2           float64\n",
      " 141  sy_rmagstr            object \n",
      " 142  sy_rmag_reflink       object \n",
      " 143  sy_imag               float64\n",
      " 144  sy_imagerr1           float64\n",
      " 145  sy_imagerr2           float64\n",
      " 146  sy_imagstr            object \n",
      " 147  sy_imag_reflink       object \n",
      " 148  sy_zmag               float64\n",
      " 149  sy_zmagerr1           float64\n",
      " 150  sy_zmagerr2           float64\n",
      " 151  sy_zmagstr            object \n",
      " 152  sy_zmag_reflink       object \n",
      " 153  sy_w1mag              float64\n",
      " 154  sy_w1magerr1          float64\n",
      " 155  sy_w1magerr2          float64\n",
      " 156  sy_w1magstr           object \n",
      " 157  sy_w1mag_reflink      object \n",
      " 158  sy_w2mag              float64\n",
      " 159  sy_w2magerr1          float64\n",
      " 160  sy_w2magerr2          float64\n",
      " 161  sy_w2magstr           object \n",
      " 162  sy_w2mag_reflink      object \n",
      " 163  sy_w3mag              float64\n",
      " 164  sy_w3magerr1          float64\n",
      " 165  sy_w3magerr2          float64\n",
      " 166  sy_w3magstr           object \n",
      " 167  sy_w3mag_reflink      object \n",
      " 168  sy_w4mag              float64\n",
      " 169  sy_w4magerr1          float64\n",
      " 170  sy_w4magerr2          float64\n",
      " 171  sy_w4magstr           object \n",
      " 172  sy_w4mag_reflink      object \n",
      " 173  sy_gmag               float64\n",
      " 174  sy_gmagerr1           float64\n",
      " 175  sy_gmagerr2           float64\n",
      " 176  sy_gmagstr            object \n",
      " 177  sy_gmag_reflink       object \n",
      " 178  sy_gaiamag            float64\n",
      " 179  sy_gaiamagerr1        float64\n",
      " 180  sy_gaiamagerr2        float64\n",
      " 181  sy_gaiamagstr         object \n",
      " 182  sy_gaiamag_reflink    object \n",
      " 183  sy_tmag               float64\n",
      " 184  sy_tmagerr1           float64\n",
      " 185  sy_tmagerr2           float64\n",
      " 186  sy_tmagstr            object \n",
      " 187  sy_tmag_reflink       object \n",
      " 188  pl_controv_flag       int64  \n",
      " 189  pl_orbtper_systemref  object \n",
      " 190  pl_tranmid_systemref  object \n",
      " 191  st_metratio           object \n",
      " 192  st_spectype           object \n",
      " 193  st_spectype_reflink   object \n",
      " 194  sy_kepmag             float64\n",
      " 195  sy_kepmagerr1         float64\n",
      " 196  sy_kepmagerr2         float64\n",
      " 197  sy_kepmagstr          float64\n",
      " 198  sy_kepmag_reflink     object \n",
      " 199  st_rotp               float64\n",
      " 200  st_rotperr1           float64\n",
      " 201  st_rotperr2           float64\n",
      " 202  st_rotplim            float64\n",
      " 203  st_rotpstr            object \n",
      " 204  st_rotp_reflink       object \n",
      " 205  pl_projobliq          float64\n",
      " 206  pl_projobliqerr1      float64\n",
      " 207  pl_projobliqerr2      float64\n",
      " 208  pl_projobliqlim       float64\n",
      " 209  pl_projobliqstr       object \n",
      " 210  pl_projobliq_reflink  object \n",
      " 211  gaia_id               object \n",
      " 212  cb_flag               int64  \n",
      " 213  pl_tranmid_reflink    object \n",
      " 214  pl_trandur            float64\n",
      " 215  pl_trandurerr1        float64\n",
      " 216  pl_trandurerr2        float64\n",
      " 217  pl_trandurlim         float64\n",
      " 218  pl_trandurstr         object \n",
      " 219  pl_trandur_reflink    object \n",
      " 220  pl_rvamp              float64\n",
      " 221  pl_rvamperr1          float64\n",
      " 222  pl_rvamperr2          float64\n",
      " 223  pl_rvamplim           float64\n",
      " 224  pl_rvampstr           object \n",
      " 225  pl_rvamp_reflink      object \n",
      " 226  pl_radj               float64\n",
      " 227  pl_radjerr1           float64\n",
      " 228  pl_radjerr2           float64\n",
      " 229  pl_radjlim            float64\n",
      " 230  pl_radjstr            object \n",
      " 231  pl_radj_reflink       object \n",
      " 232  pl_rade               float64\n",
      " 233  pl_radeerr1           float64\n",
      " 234  pl_radeerr2           float64\n",
      " 235  pl_radelim            float64\n",
      " 236  pl_radestr            object \n",
      " 237  pl_rade_reflink       object \n",
      " 238  pl_ratror             float64\n",
      " 239  pl_ratrorerr1         float64\n",
      " 240  pl_ratrorerr2         float64\n",
      " 241  pl_ratrorlim          float64\n",
      " 242  pl_ratrorstr          object \n",
      " 243  pl_ratror_reflink     object \n",
      " 244  pl_ratdor             float64\n",
      " 245  pl_trueobliq          float64\n",
      " 246  pl_trueobliqerr1      float64\n",
      " 247  pl_trueobliqerr2      float64\n",
      " 248  pl_trueobliqlim       float64\n",
      " 249  pl_trueobliqstr       object \n",
      " 250  pl_trueobliq_reflink  object \n",
      " 251  sy_icmag              float64\n",
      " 252  sy_icmagerr1          float64\n",
      " 253  sy_icmagerr2          float64\n",
      " 254  sy_icmagstr           object \n",
      " 255  sy_icmag_reflink      object \n",
      " 256  dkin_flag             int64  \n",
      " 257  pl_ratdorerr1         float64\n",
      " 258  pl_ratdorerr2         float64\n",
      " 259  pl_ratdorlim          float64\n",
      " 260  pl_ratdorstr          object \n",
      " 261  pl_ratdor_reflink     object \n",
      " 262  pl_imppar             float64\n",
      " 263  pl_impparerr1         float64\n",
      " 264  pl_impparerr2         float64\n",
      " 265  pl_impparlim          float64\n",
      " 266  pl_impparstr          object \n",
      " 267  pl_imppar_reflink     object \n",
      " 268  pl_bmassj             float64\n",
      " 269  pl_bmassjerr1         float64\n",
      " 270  pl_bmassjerr2         float64\n",
      " 271  pl_bmassjlim          float64\n",
      " 272  pl_bmassjstr          object \n",
      " 273  pl_bmassj_reflink     object \n",
      " 274  pl_bmasse             float64\n",
      " 275  pl_bmasseerr1         float64\n",
      " 276  pl_bmasseerr2         float64\n",
      " 277  pl_bmasselim          float64\n",
      " 278  pl_bmassestr          object \n",
      " 279  pl_bmasse_reflink     object \n",
      " 280  pl_bmassprov          object \n",
      " 281  st_teff               float64\n",
      " 282  st_tefferr1           float64\n",
      " 283  st_tefferr2           float64\n",
      " 284  st_tefflim            float64\n",
      " 285  st_teffstr            object \n",
      " 286  st_teff_reflink       object \n",
      " 287  st_met                float64\n",
      " 288  st_meterr1            float64\n",
      " 289  st_meterr2            float64\n",
      " 290  st_metlim             float64\n",
      " 291  st_metstr             object \n",
      " 292  st_met_reflink        object \n",
      " 293  st_radv               float64\n",
      " 294  st_radverr1           float64\n",
      " 295  st_radverr2           float64\n",
      " 296  st_radvlim            float64\n",
      " 297  st_radvstr            object \n",
      " 298  st_radv_reflink       object \n",
      " 299  st_vsin               float64\n",
      " 300  st_vsinerr1           float64\n",
      " 301  st_vsinerr2           float64\n",
      " 302  st_vsinlim            float64\n",
      " 303  st_vsinstr            object \n",
      " 304  st_vsin_reflink       object \n",
      " 305  st_lum                float64\n",
      " 306  st_lumerr1            float64\n",
      " 307  st_lumerr2            float64\n",
      " 308  st_lumlim             float64\n",
      " 309  st_lumstr             object \n",
      " 310  st_lum_reflink        object \n",
      " 311  st_logg               float64\n",
      " 312  st_loggerr1           float64\n",
      " 313  st_loggerr2           float64\n",
      " 314  st_logglim            float64\n",
      " 315  st_loggstr            object \n",
      " 316  st_logg_reflink       object \n",
      " 317  st_age                float64\n",
      " 318  st_ageerr1            float64\n",
      " 319  st_ageerr2            float64\n",
      " 320  st_agelim             float64\n",
      " 321  st_agestr             object \n",
      " 322  st_age_reflink        object \n",
      " 323  st_mass               float64\n",
      " 324  st_masserr1           float64\n",
      " 325  st_masserr2           float64\n",
      " 326  st_masslim            float64\n",
      " 327  st_massstr            object \n",
      " 328  st_mass_reflink       object \n",
      " 329  st_dens               float64\n",
      " 330  st_denserr1           float64\n",
      " 331  st_denserr2           float64\n",
      " 332  st_denslim            float64\n",
      " 333  st_densstr            object \n",
      " 334  st_dens_reflink       object \n",
      " 335  st_rad                float64\n",
      " 336  st_raderr1            float64\n",
      " 337  st_raderr2            float64\n",
      " 338  st_radlim             float64\n",
      " 339  st_radstr             object \n",
      " 340  st_rad_reflink        object \n",
      " 341  ttv_flag              int64  \n",
      " 342  ptv_flag              int64  \n",
      " 343  tran_flag             int64  \n",
      " 344  rv_flag               int64  \n",
      " 345  ast_flag              int64  \n",
      " 346  obm_flag              int64  \n",
      " 347  micro_flag            int64  \n",
      " 348  etv_flag              int64  \n",
      " 349  ima_flag              int64  \n",
      " 350  pul_flag              int64  \n",
      " 351  sy_snum               int64  \n",
      " 352  sy_pnum               int64  \n",
      " 353  sy_mnum               int64  \n",
      " 354  st_nphot              int64  \n",
      " 355  st_nrvc               int64  \n",
      " 356  st_nspec              int64  \n",
      " 357  pl_nespec             int64  \n",
      " 358  pl_ntranspec          int64  \n",
      " 359  pl_nnotes             float64\n",
      " 360  sy_pm                 float64\n",
      " 361  sy_pmerr1             float64\n",
      " 362  sy_pmerr2             float64\n",
      " 363  sy_pmstr              object \n",
      " 364  sy_pm_reflink         object \n",
      " 365  sy_pmra               float64\n",
      " 366  sy_pmraerr1           float64\n",
      " 367  sy_pmraerr2           float64\n",
      " 368  sy_pmrastr            object \n",
      " 369  x                     float64\n",
      " 370  y                     float64\n",
      " 371  z                     float64\n",
      " 372  htm20                 int64  \n",
      "dtypes: float64(216), int64(23), object(134)\n",
      "memory usage: 13.9+ MB\n"
     ]
    }
   ],
   "source": [
    "# basic details on the dataframe\n",
    "confirmed_df.info(verbose=True)"
   ]
  },
  {
   "cell_type": "markdown",
   "id": "208827d7",
   "metadata": {},
   "source": [
    "Columns from the dataset that are of use to this project <br>\n",
    "From the documentation at: https://exoplanetarchive.ipac.caltech.edu/TAP/tables and https://exoplanetarchive.ipac.caltech.edu/docs/API_kepcandidate_columns.html are:\n",
    "\n",
    "__pl_name__ : Char<br>\n",
    "The planet name\n",
    " <br>\n",
    "  <br>\n",
    "__pl_letter__ : Char<br>\n",
    "The planet lettering system (single aplphabetical digit)\n",
    " <br>\n",
    "  <br>\n",
    "__hostname__ : Char<br>\n",
    "The host(Star) name for the planet discovered \n",
    " <br>\n",
    "  <br>\n",
    "__tic_id__ : Char<br>\n",
    "The target identification number, for use downloading the specific Pixel Image data\n",
    " <br>\n",
    "  <br>\n",
    "__disc_pubdate__ : Char<br>\n",
    "When the discovered planet was published\n",
    " <br>\n",
    "  <br>\n",
    "__disc_year__ : int<br>\n",
    "The year the planet was discovered\n",
    " <br>\n",
    "  <br>\n",
    "__discoverymethod__ : Char<br>\n",
    "The method used to discover the planet, Transit Microlensing etc,,\n",
    " <br>\n",
    "  <br>\n",
    "__disc_locale__ : Char<br>\n",
    "From where the discovery was made, from the ground or from space\n",
    " <br>\n",
    "  <br>\n",
    "__disc_facility__ : Char<br> \n",
    "The facility that was incharge of the instrument that made the discovery\n",
    " <br>\n",
    "  <br>\n",
    "__disc_instrument__ : Char<br>\n",
    "The type of instrument used, For Kepler it is the Kepler CCD Array\n",
    " <br>\n",
    "  <br>\n",
    "__disc_telescope__ : Char<br>\n",
    "The name of the telescope, or camera that made the discovery\n",
    " <br>\n",
    "  <br>\n",
    "__pl_orbper__ : double<br>\n",
    "Is the orbital period of the planet discovered\n",
    " <br>\n",
    "  <br>\n",
    "__pl_eqt__ : double <br>\n",
    "The equilibrium temperature (Kelvin) of the planet discovered\n",
    " <br>\n",
    "  <br>\n",
    "__pl_dens__ : double<br>\n",
    "The density (g/cm3) of the planet discovered\n",
    " <br>\n",
    "  <br>\n",
    "__pl_trandur__ : double<br>\n",
    "The tranist duration in days\n",
    " <br>\n",
    "  <br>\n",
    "__pl_radj__ : double <br>\n",
    "The discovered planets Juptier Radius\n",
    " <br>\n",
    "  <br>\n",
    "__pl_rade__ : double<br>\n",
    "The discovered planets Earth Radius\n",
    " <br>\n",
    "  <br>\n",
    "__pl_bmasse__ : double <br>\n",
    "The discovered planets Earth mass (Planet Mass.sin(i)/sin(i))\n",
    " <br>\n",
    "  <br>\n",
    "__st_age__ : double<br>\n",
    "The stellar age in Gyr\n",
    " <br>\n",
    "  <br> \n",
    "__st_mass__ : double<br>\n",
    "The Stellar Mass (Solar Mass)\n",
    " <br>\n",
    "  <br>\n",
    "__tran_flag__ : int<br>\n",
    "Detected by Transits\n",
    " <br>\n",
    "  <br>\n",
    "__sy_dist__ : double<br>\n",
    "The system distance in (pc) Parsec approx 3.26 light-years\n",
    " <br>\n",
    "  <br>\n"
   ]
  },
  {
   "cell_type": "markdown",
   "id": "45531b70",
   "metadata": {},
   "source": [
    "From the 373 initial columns the above columns will give some additional insights <br>\n",
    "into the discovery of exoplanets by during the Kepler mission. <br>\n",
    "\n",
    "Although another data set containing the Kepler ID (KIC) will be used to download the pixel images<br>\n",
    "needed for the flux readings, this dataset will be used to lable and verify the positive confirmations.<br>"
   ]
  },
  {
   "cell_type": "code",
   "execution_count": 6,
   "id": "7e38c4b4",
   "metadata": {},
   "outputs": [
    {
     "data": {
      "text/html": [
       "<div>\n",
       "<style scoped>\n",
       "    .dataframe tbody tr th:only-of-type {\n",
       "        vertical-align: middle;\n",
       "    }\n",
       "\n",
       "    .dataframe tbody tr th {\n",
       "        vertical-align: top;\n",
       "    }\n",
       "\n",
       "    .dataframe thead th {\n",
       "        text-align: right;\n",
       "    }\n",
       "</style>\n",
       "<table border=\"1\" class=\"dataframe\">\n",
       "  <thead>\n",
       "    <tr style=\"text-align: right;\">\n",
       "      <th></th>\n",
       "      <th>pl_name</th>\n",
       "      <th>pl_letter</th>\n",
       "      <th>hostname</th>\n",
       "      <th>tic_id</th>\n",
       "      <th>disc_pubdate</th>\n",
       "      <th>disc_year</th>\n",
       "      <th>discoverymethod</th>\n",
       "      <th>disc_locale</th>\n",
       "      <th>disc_facility</th>\n",
       "      <th>disc_instrument</th>\n",
       "      <th>...</th>\n",
       "      <th>pl_eqt</th>\n",
       "      <th>pl_dens</th>\n",
       "      <th>pl_trandur</th>\n",
       "      <th>pl_radj</th>\n",
       "      <th>pl_rade</th>\n",
       "      <th>pl_bmasse</th>\n",
       "      <th>st_age</th>\n",
       "      <th>st_mass</th>\n",
       "      <th>tran_flag</th>\n",
       "      <th>sy_dist</th>\n",
       "    </tr>\n",
       "  </thead>\n",
       "  <tbody>\n",
       "    <tr>\n",
       "      <th>0</th>\n",
       "      <td>OGLE-2016-BLG-1227L b</td>\n",
       "      <td>b</td>\n",
       "      <td>OGLE-2016-BLG-1227L</td>\n",
       "      <td>NaN</td>\n",
       "      <td>2020-03</td>\n",
       "      <td>2020</td>\n",
       "      <td>Microlensing</td>\n",
       "      <td>Ground</td>\n",
       "      <td>OGLE</td>\n",
       "      <td>OGLE CCD Array</td>\n",
       "      <td>...</td>\n",
       "      <td>NaN</td>\n",
       "      <td>0.512</td>\n",
       "      <td>NaN</td>\n",
       "      <td>1.240</td>\n",
       "      <td>13.900</td>\n",
       "      <td>250.00000</td>\n",
       "      <td>NaN</td>\n",
       "      <td>0.10</td>\n",
       "      <td>0</td>\n",
       "      <td>NaN</td>\n",
       "    </tr>\n",
       "    <tr>\n",
       "      <th>1</th>\n",
       "      <td>GJ 480 b</td>\n",
       "      <td>b</td>\n",
       "      <td>GJ 480</td>\n",
       "      <td>TIC 399119319</td>\n",
       "      <td>2020-08</td>\n",
       "      <td>2020</td>\n",
       "      <td>Radial Velocity</td>\n",
       "      <td>Ground</td>\n",
       "      <td>Multiple Observatories</td>\n",
       "      <td>Multiple Instruments</td>\n",
       "      <td>...</td>\n",
       "      <td>NaN</td>\n",
       "      <td>1.440</td>\n",
       "      <td>NaN</td>\n",
       "      <td>0.330</td>\n",
       "      <td>3.690</td>\n",
       "      <td>13.20000</td>\n",
       "      <td>NaN</td>\n",
       "      <td>0.45</td>\n",
       "      <td>0</td>\n",
       "      <td>14.2358</td>\n",
       "    </tr>\n",
       "    <tr>\n",
       "      <th>2</th>\n",
       "      <td>Kepler-276 c</td>\n",
       "      <td>c</td>\n",
       "      <td>Kepler-276</td>\n",
       "      <td>TIC 138213510</td>\n",
       "      <td>2014-02</td>\n",
       "      <td>2013</td>\n",
       "      <td>Transit</td>\n",
       "      <td>Space</td>\n",
       "      <td>Kepler</td>\n",
       "      <td>Kepler CCD Array</td>\n",
       "      <td>...</td>\n",
       "      <td>563.0</td>\n",
       "      <td>3.740</td>\n",
       "      <td>5.09900</td>\n",
       "      <td>0.259</td>\n",
       "      <td>2.900</td>\n",
       "      <td>16.60000</td>\n",
       "      <td>0.40</td>\n",
       "      <td>1.10</td>\n",
       "      <td>1</td>\n",
       "      <td>1144.8600</td>\n",
       "    </tr>\n",
       "    <tr>\n",
       "      <th>3</th>\n",
       "      <td>Kepler-829 b</td>\n",
       "      <td>b</td>\n",
       "      <td>Kepler-829</td>\n",
       "      <td>TIC 123451768</td>\n",
       "      <td>2016-05</td>\n",
       "      <td>2016</td>\n",
       "      <td>Transit</td>\n",
       "      <td>Space</td>\n",
       "      <td>Kepler</td>\n",
       "      <td>Kepler CCD Array</td>\n",
       "      <td>...</td>\n",
       "      <td>857.0</td>\n",
       "      <td>2.980</td>\n",
       "      <td>2.24420</td>\n",
       "      <td>0.188</td>\n",
       "      <td>2.110</td>\n",
       "      <td>5.10000</td>\n",
       "      <td>4.68</td>\n",
       "      <td>0.98</td>\n",
       "      <td>1</td>\n",
       "      <td>1073.7600</td>\n",
       "    </tr>\n",
       "    <tr>\n",
       "      <th>4</th>\n",
       "      <td>K2-283 b</td>\n",
       "      <td>b</td>\n",
       "      <td>K2-283</td>\n",
       "      <td>TIC 266017624</td>\n",
       "      <td>2018-12</td>\n",
       "      <td>2018</td>\n",
       "      <td>Transit</td>\n",
       "      <td>Space</td>\n",
       "      <td>K2</td>\n",
       "      <td>Kepler CCD Array</td>\n",
       "      <td>...</td>\n",
       "      <td>1186.0</td>\n",
       "      <td>1.540</td>\n",
       "      <td>1.74960</td>\n",
       "      <td>0.314</td>\n",
       "      <td>3.520</td>\n",
       "      <td>12.20000</td>\n",
       "      <td>NaN</td>\n",
       "      <td>0.89</td>\n",
       "      <td>1</td>\n",
       "      <td>402.9150</td>\n",
       "    </tr>\n",
       "    <tr>\n",
       "      <th>...</th>\n",
       "      <td>...</td>\n",
       "      <td>...</td>\n",
       "      <td>...</td>\n",
       "      <td>...</td>\n",
       "      <td>...</td>\n",
       "      <td>...</td>\n",
       "      <td>...</td>\n",
       "      <td>...</td>\n",
       "      <td>...</td>\n",
       "      <td>...</td>\n",
       "      <td>...</td>\n",
       "      <td>...</td>\n",
       "      <td>...</td>\n",
       "      <td>...</td>\n",
       "      <td>...</td>\n",
       "      <td>...</td>\n",
       "      <td>...</td>\n",
       "      <td>...</td>\n",
       "      <td>...</td>\n",
       "      <td>...</td>\n",
       "      <td>...</td>\n",
       "    </tr>\n",
       "    <tr>\n",
       "      <th>4879</th>\n",
       "      <td>2M0437 b</td>\n",
       "      <td>b</td>\n",
       "      <td>2M0437</td>\n",
       "      <td>TIC 125843782</td>\n",
       "      <td>2021-10</td>\n",
       "      <td>2021</td>\n",
       "      <td>Imaging</td>\n",
       "      <td>Ground</td>\n",
       "      <td>Subaru Telescope</td>\n",
       "      <td>Infrared Camera and Spectrograph (IRCS)</td>\n",
       "      <td>...</td>\n",
       "      <td>1450.0</td>\n",
       "      <td>3.180</td>\n",
       "      <td>NaN</td>\n",
       "      <td>1.160</td>\n",
       "      <td>13.000</td>\n",
       "      <td>1271.31363</td>\n",
       "      <td>2.50</td>\n",
       "      <td>0.17</td>\n",
       "      <td>0</td>\n",
       "      <td>128.4840</td>\n",
       "    </tr>\n",
       "    <tr>\n",
       "      <th>4880</th>\n",
       "      <td>HATS-74 A b</td>\n",
       "      <td>b</td>\n",
       "      <td>HATS-74 A</td>\n",
       "      <td>TIC 219189765</td>\n",
       "      <td>2021-12</td>\n",
       "      <td>2021</td>\n",
       "      <td>Transit</td>\n",
       "      <td>Ground</td>\n",
       "      <td>HATSouth</td>\n",
       "      <td>Apogee 4K CCD Sensor</td>\n",
       "      <td>...</td>\n",
       "      <td>895.1</td>\n",
       "      <td>1.640</td>\n",
       "      <td>1.65336</td>\n",
       "      <td>1.032</td>\n",
       "      <td>11.568</td>\n",
       "      <td>464.02947</td>\n",
       "      <td>11.00</td>\n",
       "      <td>0.60</td>\n",
       "      <td>1</td>\n",
       "      <td>299.3890</td>\n",
       "    </tr>\n",
       "    <tr>\n",
       "      <th>4881</th>\n",
       "      <td>HATS-75 b</td>\n",
       "      <td>b</td>\n",
       "      <td>HATS-75</td>\n",
       "      <td>TIC 44737596</td>\n",
       "      <td>2021-12</td>\n",
       "      <td>2021</td>\n",
       "      <td>Transit</td>\n",
       "      <td>Ground</td>\n",
       "      <td>HATSouth</td>\n",
       "      <td>Apogee 4K CCD Sensor</td>\n",
       "      <td>...</td>\n",
       "      <td>772.3</td>\n",
       "      <td>0.878</td>\n",
       "      <td>1.91256</td>\n",
       "      <td>0.884</td>\n",
       "      <td>9.909</td>\n",
       "      <td>156.05375</td>\n",
       "      <td>14.90</td>\n",
       "      <td>0.60</td>\n",
       "      <td>1</td>\n",
       "      <td>194.9640</td>\n",
       "    </tr>\n",
       "    <tr>\n",
       "      <th>4882</th>\n",
       "      <td>HATS-76 b</td>\n",
       "      <td>b</td>\n",
       "      <td>HATS-76</td>\n",
       "      <td>TIC 170849515</td>\n",
       "      <td>2021-12</td>\n",
       "      <td>2021</td>\n",
       "      <td>Transit</td>\n",
       "      <td>Ground</td>\n",
       "      <td>HATSouth</td>\n",
       "      <td>Apogee 4K CCD Sensor</td>\n",
       "      <td>...</td>\n",
       "      <td>939.8</td>\n",
       "      <td>2.580</td>\n",
       "      <td>1.85760</td>\n",
       "      <td>1.079</td>\n",
       "      <td>12.094</td>\n",
       "      <td>835.57088</td>\n",
       "      <td>4.60</td>\n",
       "      <td>0.66</td>\n",
       "      <td>1</td>\n",
       "      <td>385.6890</td>\n",
       "    </tr>\n",
       "    <tr>\n",
       "      <th>4883</th>\n",
       "      <td>HATS-77 b</td>\n",
       "      <td>b</td>\n",
       "      <td>HATS-77</td>\n",
       "      <td>TIC 11561667</td>\n",
       "      <td>2021-12</td>\n",
       "      <td>2021</td>\n",
       "      <td>Transit</td>\n",
       "      <td>Ground</td>\n",
       "      <td>HATSouth</td>\n",
       "      <td>Apogee 4K CCD Sensor</td>\n",
       "      <td>...</td>\n",
       "      <td>828.3</td>\n",
       "      <td>1.077</td>\n",
       "      <td>2.22768</td>\n",
       "      <td>1.165</td>\n",
       "      <td>13.058</td>\n",
       "      <td>436.69623</td>\n",
       "      <td>12.10</td>\n",
       "      <td>0.66</td>\n",
       "      <td>1</td>\n",
       "      <td>436.1760</td>\n",
       "    </tr>\n",
       "  </tbody>\n",
       "</table>\n",
       "<p>4884 rows × 22 columns</p>\n",
       "</div>"
      ],
      "text/plain": [
       "                    pl_name pl_letter             hostname         tic_id  \\\n",
       "0     OGLE-2016-BLG-1227L b         b  OGLE-2016-BLG-1227L            NaN   \n",
       "1                  GJ 480 b         b               GJ 480  TIC 399119319   \n",
       "2              Kepler-276 c         c           Kepler-276  TIC 138213510   \n",
       "3              Kepler-829 b         b           Kepler-829  TIC 123451768   \n",
       "4                  K2-283 b         b               K2-283  TIC 266017624   \n",
       "...                     ...       ...                  ...            ...   \n",
       "4879               2M0437 b         b               2M0437  TIC 125843782   \n",
       "4880            HATS-74 A b         b            HATS-74 A  TIC 219189765   \n",
       "4881              HATS-75 b         b              HATS-75   TIC 44737596   \n",
       "4882              HATS-76 b         b              HATS-76  TIC 170849515   \n",
       "4883              HATS-77 b         b              HATS-77   TIC 11561667   \n",
       "\n",
       "     disc_pubdate  disc_year  discoverymethod disc_locale  \\\n",
       "0         2020-03       2020     Microlensing      Ground   \n",
       "1         2020-08       2020  Radial Velocity      Ground   \n",
       "2         2014-02       2013          Transit       Space   \n",
       "3         2016-05       2016          Transit       Space   \n",
       "4         2018-12       2018          Transit       Space   \n",
       "...           ...        ...              ...         ...   \n",
       "4879      2021-10       2021          Imaging      Ground   \n",
       "4880      2021-12       2021          Transit      Ground   \n",
       "4881      2021-12       2021          Transit      Ground   \n",
       "4882      2021-12       2021          Transit      Ground   \n",
       "4883      2021-12       2021          Transit      Ground   \n",
       "\n",
       "               disc_facility                          disc_instrument  ...  \\\n",
       "0                       OGLE                           OGLE CCD Array  ...   \n",
       "1     Multiple Observatories                     Multiple Instruments  ...   \n",
       "2                     Kepler                         Kepler CCD Array  ...   \n",
       "3                     Kepler                         Kepler CCD Array  ...   \n",
       "4                         K2                         Kepler CCD Array  ...   \n",
       "...                      ...                                      ...  ...   \n",
       "4879        Subaru Telescope  Infrared Camera and Spectrograph (IRCS)  ...   \n",
       "4880                HATSouth                     Apogee 4K CCD Sensor  ...   \n",
       "4881                HATSouth                     Apogee 4K CCD Sensor  ...   \n",
       "4882                HATSouth                     Apogee 4K CCD Sensor  ...   \n",
       "4883                HATSouth                     Apogee 4K CCD Sensor  ...   \n",
       "\n",
       "      pl_eqt  pl_dens  pl_trandur  pl_radj  pl_rade   pl_bmasse  st_age  \\\n",
       "0        NaN    0.512         NaN    1.240   13.900   250.00000     NaN   \n",
       "1        NaN    1.440         NaN    0.330    3.690    13.20000     NaN   \n",
       "2      563.0    3.740     5.09900    0.259    2.900    16.60000    0.40   \n",
       "3      857.0    2.980     2.24420    0.188    2.110     5.10000    4.68   \n",
       "4     1186.0    1.540     1.74960    0.314    3.520    12.20000     NaN   \n",
       "...      ...      ...         ...      ...      ...         ...     ...   \n",
       "4879  1450.0    3.180         NaN    1.160   13.000  1271.31363    2.50   \n",
       "4880   895.1    1.640     1.65336    1.032   11.568   464.02947   11.00   \n",
       "4881   772.3    0.878     1.91256    0.884    9.909   156.05375   14.90   \n",
       "4882   939.8    2.580     1.85760    1.079   12.094   835.57088    4.60   \n",
       "4883   828.3    1.077     2.22768    1.165   13.058   436.69623   12.10   \n",
       "\n",
       "      st_mass  tran_flag    sy_dist  \n",
       "0        0.10          0        NaN  \n",
       "1        0.45          0    14.2358  \n",
       "2        1.10          1  1144.8600  \n",
       "3        0.98          1  1073.7600  \n",
       "4        0.89          1   402.9150  \n",
       "...       ...        ...        ...  \n",
       "4879     0.17          0   128.4840  \n",
       "4880     0.60          1   299.3890  \n",
       "4881     0.60          1   194.9640  \n",
       "4882     0.66          1   385.6890  \n",
       "4883     0.66          1   436.1760  \n",
       "\n",
       "[4884 rows x 22 columns]"
      ]
     },
     "execution_count": 6,
     "metadata": {},
     "output_type": "execute_result"
    }
   ],
   "source": [
    "# Reindex only the columns of possible interest to the initial exploritory analysis\n",
    "confirmed_df = confirmed_df.reindex(columns=['pl_name','pl_letter','hostname','tic_id','disc_pubdate','disc_year',\n",
    "                              'discoverymethod','disc_locale','disc_facility','disc_instrument',\n",
    "                              'disc_telescope','pl_orbper','pl_eqt','pl_dens','pl_trandur','pl_radj',\n",
    "                              'pl_rade','pl_bmasse','st_age','st_mass','tran_flag','sy_dist' ])\n",
    "\n",
    "confirmed_df"
   ]
  },
  {
   "cell_type": "code",
   "execution_count": 7,
   "id": "d960a1c6",
   "metadata": {
    "scrolled": true
   },
   "outputs": [
    {
     "data": {
      "text/html": [
       "<div>\n",
       "<style scoped>\n",
       "    .dataframe tbody tr th:only-of-type {\n",
       "        vertical-align: middle;\n",
       "    }\n",
       "\n",
       "    .dataframe tbody tr th {\n",
       "        vertical-align: top;\n",
       "    }\n",
       "\n",
       "    .dataframe thead th {\n",
       "        text-align: right;\n",
       "    }\n",
       "</style>\n",
       "<table border=\"1\" class=\"dataframe\">\n",
       "  <thead>\n",
       "    <tr style=\"text-align: right;\">\n",
       "      <th></th>\n",
       "      <th>disc_year</th>\n",
       "      <th>pl_orbper</th>\n",
       "      <th>pl_eqt</th>\n",
       "      <th>pl_dens</th>\n",
       "      <th>pl_trandur</th>\n",
       "      <th>pl_radj</th>\n",
       "      <th>pl_rade</th>\n",
       "      <th>pl_bmasse</th>\n",
       "      <th>st_age</th>\n",
       "      <th>st_mass</th>\n",
       "      <th>tran_flag</th>\n",
       "      <th>sy_dist</th>\n",
       "    </tr>\n",
       "  </thead>\n",
       "  <tbody>\n",
       "    <tr>\n",
       "      <th>count</th>\n",
       "      <td>4884.000000</td>\n",
       "      <td>4.726000e+03</td>\n",
       "      <td>3710.000000</td>\n",
       "      <td>4779.000000</td>\n",
       "      <td>3638.000000</td>\n",
       "      <td>4868.000000</td>\n",
       "      <td>4870.000000</td>\n",
       "      <td>4862.000000</td>\n",
       "      <td>3971.000000</td>\n",
       "      <td>4880.000000</td>\n",
       "      <td>4884.000000</td>\n",
       "      <td>4869.000000</td>\n",
       "    </tr>\n",
       "    <tr>\n",
       "      <th>mean</th>\n",
       "      <td>2015.251229</td>\n",
       "      <td>8.863196e+04</td>\n",
       "      <td>909.615374</td>\n",
       "      <td>4.278715</td>\n",
       "      <td>3.929477</td>\n",
       "      <td>0.492018</td>\n",
       "      <td>5.512160</td>\n",
       "      <td>437.268038</td>\n",
       "      <td>4.360688</td>\n",
       "      <td>0.962779</td>\n",
       "      <td>0.774161</td>\n",
       "      <td>665.520604</td>\n",
       "    </tr>\n",
       "    <tr>\n",
       "      <th>std</th>\n",
       "      <td>4.114448</td>\n",
       "      <td>5.849702e+06</td>\n",
       "      <td>456.408995</td>\n",
       "      <td>22.959142</td>\n",
       "      <td>2.647875</td>\n",
       "      <td>0.472840</td>\n",
       "      <td>5.298701</td>\n",
       "      <td>3949.936636</td>\n",
       "      <td>3.043127</td>\n",
       "      <td>0.430406</td>\n",
       "      <td>0.418177</td>\n",
       "      <td>922.451942</td>\n",
       "    </tr>\n",
       "    <tr>\n",
       "      <th>min</th>\n",
       "      <td>1989.000000</td>\n",
       "      <td>9.070629e-02</td>\n",
       "      <td>50.000000</td>\n",
       "      <td>0.030000</td>\n",
       "      <td>0.112700</td>\n",
       "      <td>0.026000</td>\n",
       "      <td>0.296000</td>\n",
       "      <td>0.020000</td>\n",
       "      <td>0.000000</td>\n",
       "      <td>0.010000</td>\n",
       "      <td>0.000000</td>\n",
       "      <td>1.301190</td>\n",
       "    </tr>\n",
       "    <tr>\n",
       "      <th>25%</th>\n",
       "      <td>2014.000000</td>\n",
       "      <td>4.488917e+00</td>\n",
       "      <td>571.250000</td>\n",
       "      <td>1.460000</td>\n",
       "      <td>2.292250</td>\n",
       "      <td>0.155000</td>\n",
       "      <td>1.731000</td>\n",
       "      <td>3.860000</td>\n",
       "      <td>2.400000</td>\n",
       "      <td>0.800000</td>\n",
       "      <td>1.000000</td>\n",
       "      <td>141.731000</td>\n",
       "    </tr>\n",
       "    <tr>\n",
       "      <th>50%</th>\n",
       "      <td>2016.000000</td>\n",
       "      <td>1.161783e+01</td>\n",
       "      <td>817.500000</td>\n",
       "      <td>2.590000</td>\n",
       "      <td>3.270500</td>\n",
       "      <td>0.241000</td>\n",
       "      <td>2.700000</td>\n",
       "      <td>8.200000</td>\n",
       "      <td>3.980000</td>\n",
       "      <td>0.950000</td>\n",
       "      <td>1.000000</td>\n",
       "      <td>457.125000</td>\n",
       "    </tr>\n",
       "    <tr>\n",
       "      <th>75%</th>\n",
       "      <td>2018.000000</td>\n",
       "      <td>3.978237e+01</td>\n",
       "      <td>1141.750000</td>\n",
       "      <td>4.570000</td>\n",
       "      <td>4.797750</td>\n",
       "      <td>0.995750</td>\n",
       "      <td>11.147500</td>\n",
       "      <td>131.502162</td>\n",
       "      <td>5.130000</td>\n",
       "      <td>1.090000</td>\n",
       "      <td>1.000000</td>\n",
       "      <td>869.236000</td>\n",
       "    </tr>\n",
       "    <tr>\n",
       "      <th>max</th>\n",
       "      <td>2021.000000</td>\n",
       "      <td>4.020000e+08</td>\n",
       "      <td>4050.000000</td>\n",
       "      <td>1290.000000</td>\n",
       "      <td>53.600000</td>\n",
       "      <td>6.900000</td>\n",
       "      <td>77.342000</td>\n",
       "      <td>239000.000000</td>\n",
       "      <td>14.900000</td>\n",
       "      <td>10.940000</td>\n",
       "      <td>1.000000</td>\n",
       "      <td>8500.000000</td>\n",
       "    </tr>\n",
       "  </tbody>\n",
       "</table>\n",
       "</div>"
      ],
      "text/plain": [
       "         disc_year     pl_orbper       pl_eqt      pl_dens   pl_trandur  \\\n",
       "count  4884.000000  4.726000e+03  3710.000000  4779.000000  3638.000000   \n",
       "mean   2015.251229  8.863196e+04   909.615374     4.278715     3.929477   \n",
       "std       4.114448  5.849702e+06   456.408995    22.959142     2.647875   \n",
       "min    1989.000000  9.070629e-02    50.000000     0.030000     0.112700   \n",
       "25%    2014.000000  4.488917e+00   571.250000     1.460000     2.292250   \n",
       "50%    2016.000000  1.161783e+01   817.500000     2.590000     3.270500   \n",
       "75%    2018.000000  3.978237e+01  1141.750000     4.570000     4.797750   \n",
       "max    2021.000000  4.020000e+08  4050.000000  1290.000000    53.600000   \n",
       "\n",
       "           pl_radj      pl_rade      pl_bmasse       st_age      st_mass  \\\n",
       "count  4868.000000  4870.000000    4862.000000  3971.000000  4880.000000   \n",
       "mean      0.492018     5.512160     437.268038     4.360688     0.962779   \n",
       "std       0.472840     5.298701    3949.936636     3.043127     0.430406   \n",
       "min       0.026000     0.296000       0.020000     0.000000     0.010000   \n",
       "25%       0.155000     1.731000       3.860000     2.400000     0.800000   \n",
       "50%       0.241000     2.700000       8.200000     3.980000     0.950000   \n",
       "75%       0.995750    11.147500     131.502162     5.130000     1.090000   \n",
       "max       6.900000    77.342000  239000.000000    14.900000    10.940000   \n",
       "\n",
       "         tran_flag      sy_dist  \n",
       "count  4884.000000  4869.000000  \n",
       "mean      0.774161   665.520604  \n",
       "std       0.418177   922.451942  \n",
       "min       0.000000     1.301190  \n",
       "25%       1.000000   141.731000  \n",
       "50%       1.000000   457.125000  \n",
       "75%       1.000000   869.236000  \n",
       "max       1.000000  8500.000000  "
      ]
     },
     "execution_count": 7,
     "metadata": {},
     "output_type": "execute_result"
    }
   ],
   "source": [
    "# simple desciptive statistics of the new dataframe\n",
    "confirmed_df.describe()"
   ]
  },
  {
   "cell_type": "code",
   "execution_count": 8,
   "id": "8868d02c",
   "metadata": {},
   "outputs": [
    {
     "data": {
      "text/plain": [
       "pl_name             object\n",
       "pl_letter           object\n",
       "hostname            object\n",
       "tic_id              object\n",
       "disc_pubdate        object\n",
       "disc_year            int64\n",
       "discoverymethod     object\n",
       "disc_locale         object\n",
       "disc_facility       object\n",
       "disc_instrument     object\n",
       "disc_telescope      object\n",
       "pl_orbper          float64\n",
       "pl_eqt             float64\n",
       "pl_dens            float64\n",
       "pl_trandur         float64\n",
       "pl_radj            float64\n",
       "pl_rade            float64\n",
       "pl_bmasse          float64\n",
       "st_age             float64\n",
       "st_mass            float64\n",
       "tran_flag            int64\n",
       "sy_dist            float64\n",
       "dtype: object"
      ]
     },
     "execution_count": 8,
     "metadata": {},
     "output_type": "execute_result"
    }
   ],
   "source": [
    "# simple desciptive statistics of the new dataframe\n",
    "confirmed_df.dtypes"
   ]
  },
  {
   "cell_type": "code",
   "execution_count": 9,
   "id": "4b043516",
   "metadata": {},
   "outputs": [
    {
     "name": "stdout",
     "output_type": "stream",
     "text": [
      "<class 'pandas.core.frame.DataFrame'>\n",
      "RangeIndex: 4884 entries, 0 to 4883\n",
      "Data columns (total 22 columns):\n",
      " #   Column           Non-Null Count  Dtype  \n",
      "---  ------           --------------  -----  \n",
      " 0   pl_name          4884 non-null   object \n",
      " 1   pl_letter        4884 non-null   object \n",
      " 2   hostname         4884 non-null   object \n",
      " 3   tic_id           4751 non-null   object \n",
      " 4   disc_pubdate     4884 non-null   object \n",
      " 5   disc_year        4884 non-null   int64  \n",
      " 6   discoverymethod  4884 non-null   object \n",
      " 7   disc_locale      4884 non-null   object \n",
      " 8   disc_facility    4884 non-null   object \n",
      " 9   disc_instrument  4884 non-null   object \n",
      " 10  disc_telescope   4884 non-null   object \n",
      " 11  pl_orbper        4726 non-null   float64\n",
      " 12  pl_eqt           3710 non-null   float64\n",
      " 13  pl_dens          4779 non-null   float64\n",
      " 14  pl_trandur       3638 non-null   float64\n",
      " 15  pl_radj          4868 non-null   float64\n",
      " 16  pl_rade          4870 non-null   float64\n",
      " 17  pl_bmasse        4862 non-null   float64\n",
      " 18  st_age           3971 non-null   float64\n",
      " 19  st_mass          4880 non-null   float64\n",
      " 20  tran_flag        4884 non-null   int64  \n",
      " 21  sy_dist          4869 non-null   float64\n",
      "dtypes: float64(10), int64(2), object(10)\n",
      "memory usage: 839.6+ KB\n"
     ]
    }
   ],
   "source": [
    "# simple desciptive statistics of the new dataframe\n",
    "confirmed_df.info()"
   ]
  },
  {
   "cell_type": "markdown",
   "id": "2992121e",
   "metadata": {},
   "source": [
    "### Discovery Methods & Discovery Telescopes"
   ]
  },
  {
   "cell_type": "markdown",
   "id": "cf15dae0",
   "metadata": {},
   "source": [
    "Checking the discovery methods for expolanets. The Machine learning aspect<br>\n",
    "of the project will focus on the Transit method discovered by the Kepler Telescope."
   ]
  },
  {
   "cell_type": "code",
   "execution_count": 10,
   "id": "7cb7de52",
   "metadata": {},
   "outputs": [
    {
     "data": {
      "text/html": [
       "<div>\n",
       "<style scoped>\n",
       "    .dataframe tbody tr th:only-of-type {\n",
       "        vertical-align: middle;\n",
       "    }\n",
       "\n",
       "    .dataframe tbody tr th {\n",
       "        vertical-align: top;\n",
       "    }\n",
       "\n",
       "    .dataframe thead th {\n",
       "        text-align: right;\n",
       "    }\n",
       "</style>\n",
       "<table border=\"1\" class=\"dataframe\">\n",
       "  <thead>\n",
       "    <tr style=\"text-align: right;\">\n",
       "      <th></th>\n",
       "      <th>discoverymethod</th>\n",
       "      <th>count</th>\n",
       "      <th>%</th>\n",
       "    </tr>\n",
       "  </thead>\n",
       "  <tbody>\n",
       "    <tr>\n",
       "      <th>0</th>\n",
       "      <td>Astrometry</td>\n",
       "      <td>1</td>\n",
       "      <td>0.020475</td>\n",
       "    </tr>\n",
       "    <tr>\n",
       "      <th>1</th>\n",
       "      <td>Disk Kinematics</td>\n",
       "      <td>1</td>\n",
       "      <td>0.020475</td>\n",
       "    </tr>\n",
       "    <tr>\n",
       "      <th>2</th>\n",
       "      <td>Eclipse Timing Variations</td>\n",
       "      <td>16</td>\n",
       "      <td>0.327600</td>\n",
       "    </tr>\n",
       "    <tr>\n",
       "      <th>3</th>\n",
       "      <td>Imaging</td>\n",
       "      <td>55</td>\n",
       "      <td>1.126126</td>\n",
       "    </tr>\n",
       "    <tr>\n",
       "      <th>4</th>\n",
       "      <td>Microlensing</td>\n",
       "      <td>120</td>\n",
       "      <td>2.457002</td>\n",
       "    </tr>\n",
       "    <tr>\n",
       "      <th>5</th>\n",
       "      <td>Orbital Brightness Modulation</td>\n",
       "      <td>9</td>\n",
       "      <td>0.184275</td>\n",
       "    </tr>\n",
       "    <tr>\n",
       "      <th>6</th>\n",
       "      <td>Pulsar Timing</td>\n",
       "      <td>7</td>\n",
       "      <td>0.143325</td>\n",
       "    </tr>\n",
       "    <tr>\n",
       "      <th>7</th>\n",
       "      <td>Pulsation Timing Variations</td>\n",
       "      <td>2</td>\n",
       "      <td>0.040950</td>\n",
       "    </tr>\n",
       "    <tr>\n",
       "      <th>8</th>\n",
       "      <td>Radial Velocity</td>\n",
       "      <td>899</td>\n",
       "      <td>18.407043</td>\n",
       "    </tr>\n",
       "    <tr>\n",
       "      <th>9</th>\n",
       "      <td>Transit</td>\n",
       "      <td>3752</td>\n",
       "      <td>76.822277</td>\n",
       "    </tr>\n",
       "    <tr>\n",
       "      <th>10</th>\n",
       "      <td>Transit Timing Variations</td>\n",
       "      <td>22</td>\n",
       "      <td>0.450450</td>\n",
       "    </tr>\n",
       "  </tbody>\n",
       "</table>\n",
       "</div>"
      ],
      "text/plain": [
       "                  discoverymethod  count          %\n",
       "0                      Astrometry      1   0.020475\n",
       "1                 Disk Kinematics      1   0.020475\n",
       "2       Eclipse Timing Variations     16   0.327600\n",
       "3                         Imaging     55   1.126126\n",
       "4                    Microlensing    120   2.457002\n",
       "5   Orbital Brightness Modulation      9   0.184275\n",
       "6                   Pulsar Timing      7   0.143325\n",
       "7     Pulsation Timing Variations      2   0.040950\n",
       "8                 Radial Velocity    899  18.407043\n",
       "9                         Transit   3752  76.822277\n",
       "10      Transit Timing Variations     22   0.450450"
      ]
     },
     "execution_count": 10,
     "metadata": {},
     "output_type": "execute_result"
    }
   ],
   "source": [
    "# group and counting planets by discovery method\n",
    "disc_method = confirmed_df.copy()\n",
    "disc_method = disc_method.groupby(['discoverymethod'])['pl_name'].count()\n",
    "disc_method = disc_method.to_frame()\n",
    "disc_method.reset_index(inplace=True)\n",
    "disc_method.rename(columns={'pl_name':'count'}, inplace=True)\n",
    "disc_method['%'] = (disc_method['count'] / disc_method['count'].sum())*100\n",
    "disc_method"
   ]
  },
  {
   "cell_type": "markdown",
   "id": "e51fd8a0",
   "metadata": {},
   "source": [
    "Checking to see which instrunments have discovered how many exoplanets"
   ]
  },
  {
   "cell_type": "code",
   "execution_count": 11,
   "id": "d6d6e289",
   "metadata": {},
   "outputs": [
    {
     "data": {
      "text/html": [
       "<div>\n",
       "<style scoped>\n",
       "    .dataframe tbody tr th:only-of-type {\n",
       "        vertical-align: middle;\n",
       "    }\n",
       "\n",
       "    .dataframe tbody tr th {\n",
       "        vertical-align: top;\n",
       "    }\n",
       "\n",
       "    .dataframe thead th {\n",
       "        text-align: right;\n",
       "    }\n",
       "</style>\n",
       "<table border=\"1\" class=\"dataframe\">\n",
       "  <thead>\n",
       "    <tr style=\"text-align: right;\">\n",
       "      <th></th>\n",
       "      <th>disc_telescope</th>\n",
       "      <th>count</th>\n",
       "      <th>%</th>\n",
       "    </tr>\n",
       "  </thead>\n",
       "  <tbody>\n",
       "    <tr>\n",
       "      <th>0</th>\n",
       "      <td>0.95 m Kepler Telescope</td>\n",
       "      <td>3180</td>\n",
       "      <td>65.110565</td>\n",
       "    </tr>\n",
       "    <tr>\n",
       "      <th>1</th>\n",
       "      <td>Canon 200mm f/1.8L</td>\n",
       "      <td>222</td>\n",
       "      <td>4.545455</td>\n",
       "    </tr>\n",
       "    <tr>\n",
       "      <th>2</th>\n",
       "      <td>Multiple Telescopes</td>\n",
       "      <td>217</td>\n",
       "      <td>4.443079</td>\n",
       "    </tr>\n",
       "    <tr>\n",
       "      <th>3</th>\n",
       "      <td>3.6 m ESO Telescope</td>\n",
       "      <td>200</td>\n",
       "      <td>4.095004</td>\n",
       "    </tr>\n",
       "    <tr>\n",
       "      <th>4</th>\n",
       "      <td>0.1 m TESS Telescope</td>\n",
       "      <td>175</td>\n",
       "      <td>3.583129</td>\n",
       "    </tr>\n",
       "    <tr>\n",
       "      <th>...</th>\n",
       "      <td>...</td>\n",
       "      <td>...</td>\n",
       "      <td>...</td>\n",
       "    </tr>\n",
       "    <tr>\n",
       "      <th>70</th>\n",
       "      <td>6.5 m Magellan I Baade Telescope</td>\n",
       "      <td>1</td>\n",
       "      <td>0.020475</td>\n",
       "    </tr>\n",
       "    <tr>\n",
       "      <th>71</th>\n",
       "      <td>1.55 m Wyeth Telescope</td>\n",
       "      <td>1</td>\n",
       "      <td>0.020475</td>\n",
       "    </tr>\n",
       "    <tr>\n",
       "      <th>72</th>\n",
       "      <td>4.20 m William Herschel Telescope</td>\n",
       "      <td>1</td>\n",
       "      <td>0.020475</td>\n",
       "    </tr>\n",
       "    <tr>\n",
       "      <th>73</th>\n",
       "      <td>4 m ESO Vista Telescope</td>\n",
       "      <td>1</td>\n",
       "      <td>0.020475</td>\n",
       "    </tr>\n",
       "    <tr>\n",
       "      <th>74</th>\n",
       "      <td>2.7m Harlan J. Smith Telescope</td>\n",
       "      <td>1</td>\n",
       "      <td>0.020475</td>\n",
       "    </tr>\n",
       "  </tbody>\n",
       "</table>\n",
       "<p>75 rows × 3 columns</p>\n",
       "</div>"
      ],
      "text/plain": [
       "                       disc_telescope  count          %\n",
       "0             0.95 m Kepler Telescope   3180  65.110565\n",
       "1                  Canon 200mm f/1.8L    222   4.545455\n",
       "2                 Multiple Telescopes    217   4.443079\n",
       "3                 3.6 m ESO Telescope    200   4.095004\n",
       "4                0.1 m TESS Telescope    175   3.583129\n",
       "..                                ...    ...        ...\n",
       "70   6.5 m Magellan I Baade Telescope      1   0.020475\n",
       "71             1.55 m Wyeth Telescope      1   0.020475\n",
       "72  4.20 m William Herschel Telescope      1   0.020475\n",
       "73            4 m ESO Vista Telescope      1   0.020475\n",
       "74     2.7m Harlan J. Smith Telescope      1   0.020475\n",
       "\n",
       "[75 rows x 3 columns]"
      ]
     },
     "execution_count": 11,
     "metadata": {},
     "output_type": "execute_result"
    }
   ],
   "source": [
    "# group and counting planets by discovery instrument\n",
    "disc_telescope = confirmed_df.copy()\n",
    "disc_telescope = disc_telescope.groupby(['disc_telescope'])['pl_name'].count()\n",
    "disc_telescope = disc_telescope.to_frame()\n",
    "disc_telescope.reset_index(inplace=True)\n",
    "disc_telescope.rename(columns={'pl_name':'count'}, inplace=True)\n",
    "disc_telescope['%'] = (disc_telescope['count'] / disc_telescope['count'].sum())*100\n",
    "disc_telescope = disc_telescope.sort_values(by='%', ascending=False)\n",
    "disc_telescope.reset_index(drop= True, inplace=True)\n",
    "disc_telescope"
   ]
  },
  {
   "cell_type": "code",
   "execution_count": 58,
   "id": "9f9dd8d6",
   "metadata": {},
   "outputs": [
    {
     "data": {
      "image/png": "[encoded data removed]",
      "text/plain": [
       "<Figure size 432x288 with 1 Axes>"
      ]
     },
     "metadata": {
      "needs_background": "light"
     },
     "output_type": "display_data"
    }
   ],
   "source": [
    "table_1 = disc_telescope.copy()\n",
    "table_1 = table_1.iloc[:5]\n",
    "\n",
    "\n",
    "# plot a table\n",
    "fig, ax = plt.subplots()\n",
    "\n",
    "# hide the axis\n",
    "fig.patch.set_visible(False)\n",
    "ax.axis('off')\n",
    "ax.axis('tight')\n",
    "\n",
    "#create the table\n",
    "table = ax.table(cellText=table_1.values, colLabels = table_1.columns, loc='center')\n",
    "\n",
    "# disply and save the table\n",
    "name = \"telescope %\"\n",
    "plt.title(name, y=1.0, pad=-80)\n",
    "fig.tight_layout()\n",
    "plt.savefig('./graphs/disc_telescope_percent.jpg', bbox_inches=\"tight\", dpi=300)\n",
    "plt.show()"
   ]
  },
  {
   "cell_type": "markdown",
   "id": "fcb181da",
   "metadata": {},
   "source": [
    "Checking the combination of instrurment and detection types"
   ]
  },
  {
   "cell_type": "code",
   "execution_count": 13,
   "id": "6ebca3ff",
   "metadata": {},
   "outputs": [
    {
     "data": {
      "text/html": [
       "<div>\n",
       "<style scoped>\n",
       "    .dataframe tbody tr th:only-of-type {\n",
       "        vertical-align: middle;\n",
       "    }\n",
       "\n",
       "    .dataframe tbody tr th {\n",
       "        vertical-align: top;\n",
       "    }\n",
       "\n",
       "    .dataframe thead th {\n",
       "        text-align: right;\n",
       "    }\n",
       "</style>\n",
       "<table border=\"1\" class=\"dataframe\">\n",
       "  <thead>\n",
       "    <tr style=\"text-align: right;\">\n",
       "      <th></th>\n",
       "      <th>disc_telescope</th>\n",
       "      <th>discoverymethod</th>\n",
       "      <th>count</th>\n",
       "      <th>%</th>\n",
       "    </tr>\n",
       "  </thead>\n",
       "  <tbody>\n",
       "    <tr>\n",
       "      <th>0</th>\n",
       "      <td>0.95 m Kepler Telescope</td>\n",
       "      <td>Transit</td>\n",
       "      <td>3150</td>\n",
       "      <td>64.496314</td>\n",
       "    </tr>\n",
       "    <tr>\n",
       "      <th>1</th>\n",
       "      <td>Canon 200mm f/1.8L</td>\n",
       "      <td>Transit</td>\n",
       "      <td>220</td>\n",
       "      <td>4.504505</td>\n",
       "    </tr>\n",
       "    <tr>\n",
       "      <th>2</th>\n",
       "      <td>3.6 m ESO Telescope</td>\n",
       "      <td>Radial Velocity</td>\n",
       "      <td>200</td>\n",
       "      <td>4.095004</td>\n",
       "    </tr>\n",
       "    <tr>\n",
       "      <th>3</th>\n",
       "      <td>Multiple Telescopes</td>\n",
       "      <td>Radial Velocity</td>\n",
       "      <td>174</td>\n",
       "      <td>3.562654</td>\n",
       "    </tr>\n",
       "    <tr>\n",
       "      <th>4</th>\n",
       "      <td>0.1 m TESS Telescope</td>\n",
       "      <td>Transit</td>\n",
       "      <td>172</td>\n",
       "      <td>3.521704</td>\n",
       "    </tr>\n",
       "    <tr>\n",
       "      <th>...</th>\n",
       "      <td>...</td>\n",
       "      <td>...</td>\n",
       "      <td>...</td>\n",
       "      <td>...</td>\n",
       "    </tr>\n",
       "    <tr>\n",
       "      <th>98</th>\n",
       "      <td>3.9 m Anglo-Australian Telescope</td>\n",
       "      <td>Transit</td>\n",
       "      <td>1</td>\n",
       "      <td>0.020475</td>\n",
       "    </tr>\n",
       "    <tr>\n",
       "      <th>99</th>\n",
       "      <td>4 m ESO Vista Telescope</td>\n",
       "      <td>Imaging</td>\n",
       "      <td>1</td>\n",
       "      <td>0.020475</td>\n",
       "    </tr>\n",
       "    <tr>\n",
       "      <th>100</th>\n",
       "      <td>4.20 m William Herschel Telescope</td>\n",
       "      <td>Imaging</td>\n",
       "      <td>1</td>\n",
       "      <td>0.020475</td>\n",
       "    </tr>\n",
       "    <tr>\n",
       "      <th>101</th>\n",
       "      <td>6.5 m Magellan I Baade Telescope</td>\n",
       "      <td>Imaging</td>\n",
       "      <td>1</td>\n",
       "      <td>0.020475</td>\n",
       "    </tr>\n",
       "    <tr>\n",
       "      <th>102</th>\n",
       "      <td>2.7m Harlan J. Smith Telescope</td>\n",
       "      <td>Radial Velocity</td>\n",
       "      <td>1</td>\n",
       "      <td>0.020475</td>\n",
       "    </tr>\n",
       "  </tbody>\n",
       "</table>\n",
       "<p>103 rows × 4 columns</p>\n",
       "</div>"
      ],
      "text/plain": [
       "                        disc_telescope  discoverymethod  count          %\n",
       "0              0.95 m Kepler Telescope          Transit   3150  64.496314\n",
       "1                   Canon 200mm f/1.8L          Transit    220   4.504505\n",
       "2                  3.6 m ESO Telescope  Radial Velocity    200   4.095004\n",
       "3                  Multiple Telescopes  Radial Velocity    174   3.562654\n",
       "4                 0.1 m TESS Telescope          Transit    172   3.521704\n",
       "..                                 ...              ...    ...        ...\n",
       "98    3.9 m Anglo-Australian Telescope          Transit      1   0.020475\n",
       "99             4 m ESO Vista Telescope          Imaging      1   0.020475\n",
       "100  4.20 m William Herschel Telescope          Imaging      1   0.020475\n",
       "101   6.5 m Magellan I Baade Telescope          Imaging      1   0.020475\n",
       "102     2.7m Harlan J. Smith Telescope  Radial Velocity      1   0.020475\n",
       "\n",
       "[103 rows x 4 columns]"
      ]
     },
     "execution_count": 13,
     "metadata": {},
     "output_type": "execute_result"
    }
   ],
   "source": [
    "# group and counting planets by discovery instrument and method\n",
    "disc_combination = confirmed_df.copy()\n",
    "disc_combination = disc_combination.groupby(['disc_telescope', 'discoverymethod'])['pl_name'].count()\n",
    "disc_combination = disc_combination.to_frame()\n",
    "disc_combination.reset_index(inplace=True)\n",
    "disc_combination.rename(columns={'pl_name':'count'}, inplace=True)\n",
    "disc_combination['%'] = (disc_combination['count'] / disc_combination['count'].sum())*100\n",
    "disc_combination = disc_combination.sort_values(by='%', ascending=False)\n",
    "disc_combination.reset_index(drop= True, inplace=True)\n",
    "disc_combination"
   ]
  },
  {
   "cell_type": "code",
   "execution_count": 14,
   "id": "dacd96b4",
   "metadata": {},
   "outputs": [
    {
     "data": {
      "image/png": "[encoded data removed]",
      "text/plain": [
       "<Figure size 432x288 with 1 Axes>"
      ]
     },
     "metadata": {
      "needs_background": "light"
     },
     "output_type": "display_data"
    }
   ],
   "source": [
    "table_2 = disc_combination.copy()\n",
    "table_2 = table_2.iloc[:5]\n",
    "# plot a table of the stances count and percentages\n",
    "fig, ax = plt.subplots()\n",
    "\n",
    "# hide the axis\n",
    "fig.patch.set_visible(False)\n",
    "ax.axis('off')\n",
    "ax.axis('tight')\n",
    "\n",
    "#create the table\n",
    "table = ax.table(cellText=table_2.values, colLabels = table_2.columns, loc='center')\n",
    "\n",
    "# disply and save the table\n",
    "name = \"telescope & method %\"\n",
    "plt.title(name, y=1.0, pad=-80)\n",
    "fig.tight_layout()\n",
    "plt.savefig('./graphs/disc_telescope_method_percent.jpg', bbox_inches=\"tight\", dpi=300)\n",
    "plt.show()"
   ]
  },
  {
   "cell_type": "markdown",
   "id": "d0abbb78",
   "metadata": {},
   "source": [
    "Checking the combination of instrument, facility and method"
   ]
  },
  {
   "cell_type": "code",
   "execution_count": 15,
   "id": "5760048d",
   "metadata": {},
   "outputs": [
    {
     "data": {
      "text/html": [
       "<div>\n",
       "<style scoped>\n",
       "    .dataframe tbody tr th:only-of-type {\n",
       "        vertical-align: middle;\n",
       "    }\n",
       "\n",
       "    .dataframe tbody tr th {\n",
       "        vertical-align: top;\n",
       "    }\n",
       "\n",
       "    .dataframe thead th {\n",
       "        text-align: right;\n",
       "    }\n",
       "</style>\n",
       "<table border=\"1\" class=\"dataframe\">\n",
       "  <thead>\n",
       "    <tr style=\"text-align: right;\">\n",
       "      <th></th>\n",
       "      <th>disc_facility</th>\n",
       "      <th>disc_telescope</th>\n",
       "      <th>discoverymethod</th>\n",
       "      <th>count</th>\n",
       "      <th>%</th>\n",
       "    </tr>\n",
       "  </thead>\n",
       "  <tbody>\n",
       "    <tr>\n",
       "      <th>0</th>\n",
       "      <td>Kepler</td>\n",
       "      <td>0.95 m Kepler Telescope</td>\n",
       "      <td>Transit</td>\n",
       "      <td>2673</td>\n",
       "      <td>54.729730</td>\n",
       "    </tr>\n",
       "    <tr>\n",
       "      <th>1</th>\n",
       "      <td>K2</td>\n",
       "      <td>0.95 m Kepler Telescope</td>\n",
       "      <td>Transit</td>\n",
       "      <td>477</td>\n",
       "      <td>9.766585</td>\n",
       "    </tr>\n",
       "    <tr>\n",
       "      <th>2</th>\n",
       "      <td>La Silla Observatory</td>\n",
       "      <td>3.6 m ESO Telescope</td>\n",
       "      <td>Radial Velocity</td>\n",
       "      <td>200</td>\n",
       "      <td>4.095004</td>\n",
       "    </tr>\n",
       "    <tr>\n",
       "      <th>3</th>\n",
       "      <td>Transiting Exoplanet Survey Satellite (TESS)</td>\n",
       "      <td>0.1 m TESS Telescope</td>\n",
       "      <td>Transit</td>\n",
       "      <td>172</td>\n",
       "      <td>3.521704</td>\n",
       "    </tr>\n",
       "    <tr>\n",
       "      <th>4</th>\n",
       "      <td>W. M. Keck Observatory</td>\n",
       "      <td>10 m Keck I Telescope</td>\n",
       "      <td>Radial Velocity</td>\n",
       "      <td>171</td>\n",
       "      <td>3.501229</td>\n",
       "    </tr>\n",
       "    <tr>\n",
       "      <th>...</th>\n",
       "      <td>...</td>\n",
       "      <td>...</td>\n",
       "      <td>...</td>\n",
       "      <td>...</td>\n",
       "      <td>...</td>\n",
       "    </tr>\n",
       "    <tr>\n",
       "      <th>116</th>\n",
       "      <td>Infrared Survey Facility</td>\n",
       "      <td>1.4 m IRSF Telescope</td>\n",
       "      <td>Imaging</td>\n",
       "      <td>1</td>\n",
       "      <td>0.020475</td>\n",
       "    </tr>\n",
       "    <tr>\n",
       "      <th>117</th>\n",
       "      <td>Las Campanas Observatory</td>\n",
       "      <td>6.5 m Magellan I Baade Telescope</td>\n",
       "      <td>Imaging</td>\n",
       "      <td>1</td>\n",
       "      <td>0.020475</td>\n",
       "    </tr>\n",
       "    <tr>\n",
       "      <th>118</th>\n",
       "      <td>Paranal Observatory</td>\n",
       "      <td>8.2 m ESO VLT UT1 Antu Telescope</td>\n",
       "      <td>Astrometry</td>\n",
       "      <td>1</td>\n",
       "      <td>0.020475</td>\n",
       "    </tr>\n",
       "    <tr>\n",
       "      <th>119</th>\n",
       "      <td>Paranal Observatory</td>\n",
       "      <td>8.2 m ESO VLT UT1 Antu Telescope</td>\n",
       "      <td>Transit</td>\n",
       "      <td>1</td>\n",
       "      <td>0.020475</td>\n",
       "    </tr>\n",
       "    <tr>\n",
       "      <th>120</th>\n",
       "      <td>Acton Sky Portal Observatory</td>\n",
       "      <td>279mm RASA-11 wide-field telescope</td>\n",
       "      <td>Transit</td>\n",
       "      <td>1</td>\n",
       "      <td>0.020475</td>\n",
       "    </tr>\n",
       "  </tbody>\n",
       "</table>\n",
       "<p>121 rows × 5 columns</p>\n",
       "</div>"
      ],
      "text/plain": [
       "                                    disc_facility  \\\n",
       "0                                          Kepler   \n",
       "1                                              K2   \n",
       "2                            La Silla Observatory   \n",
       "3    Transiting Exoplanet Survey Satellite (TESS)   \n",
       "4                          W. M. Keck Observatory   \n",
       "..                                            ...   \n",
       "116                      Infrared Survey Facility   \n",
       "117                      Las Campanas Observatory   \n",
       "118                           Paranal Observatory   \n",
       "119                           Paranal Observatory   \n",
       "120                  Acton Sky Portal Observatory   \n",
       "\n",
       "                         disc_telescope  discoverymethod  count          %  \n",
       "0               0.95 m Kepler Telescope          Transit   2673  54.729730  \n",
       "1               0.95 m Kepler Telescope          Transit    477   9.766585  \n",
       "2                   3.6 m ESO Telescope  Radial Velocity    200   4.095004  \n",
       "3                  0.1 m TESS Telescope          Transit    172   3.521704  \n",
       "4                 10 m Keck I Telescope  Radial Velocity    171   3.501229  \n",
       "..                                  ...              ...    ...        ...  \n",
       "116                1.4 m IRSF Telescope          Imaging      1   0.020475  \n",
       "117    6.5 m Magellan I Baade Telescope          Imaging      1   0.020475  \n",
       "118    8.2 m ESO VLT UT1 Antu Telescope       Astrometry      1   0.020475  \n",
       "119    8.2 m ESO VLT UT1 Antu Telescope          Transit      1   0.020475  \n",
       "120  279mm RASA-11 wide-field telescope          Transit      1   0.020475  \n",
       "\n",
       "[121 rows x 5 columns]"
      ]
     },
     "execution_count": 15,
     "metadata": {},
     "output_type": "execute_result"
    }
   ],
   "source": [
    "# group and counting planets by discovery instrument and method\n",
    "disc_combination_1 = confirmed_df.copy()\n",
    "disc_combination_1 = disc_combination_1.groupby(['disc_facility','disc_telescope', 'discoverymethod'])['pl_name'].count()\n",
    "disc_combination_1 = disc_combination_1.to_frame()\n",
    "disc_combination_1.reset_index(inplace=True)\n",
    "disc_combination_1.rename(columns={'pl_name':'count'}, inplace=True)\n",
    "disc_combination_1['%'] = (disc_combination_1['count'] / disc_combination_1['count'].sum())*100\n",
    "disc_combination_1 = disc_combination_1.sort_values(by='%', ascending=False)\n",
    "disc_combination_1.reset_index(drop= True, inplace=True)\n",
    "disc_combination_1"
   ]
  },
  {
   "cell_type": "code",
   "execution_count": 16,
   "id": "a3c49d1a",
   "metadata": {},
   "outputs": [
    {
     "data": {
      "image/png": "[encoded data removed]",
      "text/plain": [
       "<Figure size 432x288 with 1 Axes>"
      ]
     },
     "metadata": {
      "needs_background": "light"
     },
     "output_type": "display_data"
    }
   ],
   "source": [
    "table_3 = disc_combination.copy()\n",
    "table_3 = table_3.iloc[:5]\n",
    "\n",
    "# plot a table \n",
    "fig, ax = plt.subplots()\n",
    "\n",
    "# hide the axis\n",
    "fig.patch.set_visible(False)\n",
    "ax.axis('off')\n",
    "ax.axis('tight')\n",
    "\n",
    "#create the table\n",
    "table = ax.table(cellText=table_3.values, colLabels = table_3.columns, loc='center')\n",
    "\n",
    "# disply and save the table\n",
    "name = \"facility, telescope & method %\"\n",
    "plt.title(name, y=1.0, pad=-80)\n",
    "fig.tight_layout()\n",
    "plt.savefig('./graphs/disc_facil_telescope_method_percent.jpg', bbox_inches=\"tight\", dpi=300)\n",
    "plt.show()"
   ]
  },
  {
   "cell_type": "markdown",
   "id": "a4318a30",
   "metadata": {},
   "source": [
    "The Kepler Mission and Telescope combination has discovered 54.73% of all exoplanets in the MAST archives<br>\n",
    "and will be the focus of the rest of the exploritory analysis"
   ]
  },
  {
   "cell_type": "code",
   "execution_count": 17,
   "id": "34314a12",
   "metadata": {},
   "outputs": [
    {
     "data": {
      "text/html": [
       "<div>\n",
       "<style scoped>\n",
       "    .dataframe tbody tr th:only-of-type {\n",
       "        vertical-align: middle;\n",
       "    }\n",
       "\n",
       "    .dataframe tbody tr th {\n",
       "        vertical-align: top;\n",
       "    }\n",
       "\n",
       "    .dataframe thead th {\n",
       "        text-align: right;\n",
       "    }\n",
       "</style>\n",
       "<table border=\"1\" class=\"dataframe\">\n",
       "  <thead>\n",
       "    <tr style=\"text-align: right;\">\n",
       "      <th></th>\n",
       "      <th>pl_name</th>\n",
       "      <th>pl_letter</th>\n",
       "      <th>hostname</th>\n",
       "      <th>tic_id</th>\n",
       "      <th>disc_pubdate</th>\n",
       "      <th>disc_year</th>\n",
       "      <th>discoverymethod</th>\n",
       "      <th>disc_locale</th>\n",
       "      <th>disc_facility</th>\n",
       "      <th>disc_instrument</th>\n",
       "      <th>...</th>\n",
       "      <th>pl_eqt</th>\n",
       "      <th>pl_dens</th>\n",
       "      <th>pl_trandur</th>\n",
       "      <th>pl_radj</th>\n",
       "      <th>pl_rade</th>\n",
       "      <th>pl_bmasse</th>\n",
       "      <th>st_age</th>\n",
       "      <th>st_mass</th>\n",
       "      <th>tran_flag</th>\n",
       "      <th>sy_dist</th>\n",
       "    </tr>\n",
       "  </thead>\n",
       "  <tbody>\n",
       "    <tr>\n",
       "      <th>2</th>\n",
       "      <td>Kepler-276 c</td>\n",
       "      <td>c</td>\n",
       "      <td>Kepler-276</td>\n",
       "      <td>TIC 138213510</td>\n",
       "      <td>2014-02</td>\n",
       "      <td>2013</td>\n",
       "      <td>Transit</td>\n",
       "      <td>Space</td>\n",
       "      <td>Kepler</td>\n",
       "      <td>Kepler CCD Array</td>\n",
       "      <td>...</td>\n",
       "      <td>563.0</td>\n",
       "      <td>3.74</td>\n",
       "      <td>5.0990</td>\n",
       "      <td>0.259</td>\n",
       "      <td>2.900</td>\n",
       "      <td>16.60</td>\n",
       "      <td>0.40</td>\n",
       "      <td>1.10</td>\n",
       "      <td>1</td>\n",
       "      <td>1144.860</td>\n",
       "    </tr>\n",
       "    <tr>\n",
       "      <th>3</th>\n",
       "      <td>Kepler-829 b</td>\n",
       "      <td>b</td>\n",
       "      <td>Kepler-829</td>\n",
       "      <td>TIC 123451768</td>\n",
       "      <td>2016-05</td>\n",
       "      <td>2016</td>\n",
       "      <td>Transit</td>\n",
       "      <td>Space</td>\n",
       "      <td>Kepler</td>\n",
       "      <td>Kepler CCD Array</td>\n",
       "      <td>...</td>\n",
       "      <td>857.0</td>\n",
       "      <td>2.98</td>\n",
       "      <td>2.2442</td>\n",
       "      <td>0.188</td>\n",
       "      <td>2.110</td>\n",
       "      <td>5.10</td>\n",
       "      <td>4.68</td>\n",
       "      <td>0.98</td>\n",
       "      <td>1</td>\n",
       "      <td>1073.760</td>\n",
       "    </tr>\n",
       "    <tr>\n",
       "      <th>5</th>\n",
       "      <td>Kepler-477 b</td>\n",
       "      <td>b</td>\n",
       "      <td>Kepler-477</td>\n",
       "      <td>TIC 158633329</td>\n",
       "      <td>2016-05</td>\n",
       "      <td>2016</td>\n",
       "      <td>Transit</td>\n",
       "      <td>Space</td>\n",
       "      <td>Kepler</td>\n",
       "      <td>Kepler CCD Array</td>\n",
       "      <td>...</td>\n",
       "      <td>649.0</td>\n",
       "      <td>3.06</td>\n",
       "      <td>3.3296</td>\n",
       "      <td>0.185</td>\n",
       "      <td>2.070</td>\n",
       "      <td>4.94</td>\n",
       "      <td>2.09</td>\n",
       "      <td>0.87</td>\n",
       "      <td>1</td>\n",
       "      <td>367.000</td>\n",
       "    </tr>\n",
       "    <tr>\n",
       "      <th>20</th>\n",
       "      <td>Kepler-1390 b</td>\n",
       "      <td>b</td>\n",
       "      <td>Kepler-1390</td>\n",
       "      <td>TIC 264508835</td>\n",
       "      <td>2016-05</td>\n",
       "      <td>2016</td>\n",
       "      <td>Transit</td>\n",
       "      <td>Space</td>\n",
       "      <td>Kepler</td>\n",
       "      <td>Kepler CCD Array</td>\n",
       "      <td>...</td>\n",
       "      <td>934.0</td>\n",
       "      <td>5.89</td>\n",
       "      <td>3.2110</td>\n",
       "      <td>0.105</td>\n",
       "      <td>1.180</td>\n",
       "      <td>1.76</td>\n",
       "      <td>4.47</td>\n",
       "      <td>0.98</td>\n",
       "      <td>1</td>\n",
       "      <td>723.431</td>\n",
       "    </tr>\n",
       "    <tr>\n",
       "      <th>21</th>\n",
       "      <td>Kepler-393 c</td>\n",
       "      <td>c</td>\n",
       "      <td>Kepler-393</td>\n",
       "      <td>TIC 159580535</td>\n",
       "      <td>2014-03</td>\n",
       "      <td>2014</td>\n",
       "      <td>Transit</td>\n",
       "      <td>Space</td>\n",
       "      <td>Kepler</td>\n",
       "      <td>Kepler CCD Array</td>\n",
       "      <td>...</td>\n",
       "      <td>901.0</td>\n",
       "      <td>5.44</td>\n",
       "      <td>5.4010</td>\n",
       "      <td>0.119</td>\n",
       "      <td>1.330</td>\n",
       "      <td>2.33</td>\n",
       "      <td>2.15</td>\n",
       "      <td>1.21</td>\n",
       "      <td>1</td>\n",
       "      <td>881.404</td>\n",
       "    </tr>\n",
       "    <tr>\n",
       "      <th>...</th>\n",
       "      <td>...</td>\n",
       "      <td>...</td>\n",
       "      <td>...</td>\n",
       "      <td>...</td>\n",
       "      <td>...</td>\n",
       "      <td>...</td>\n",
       "      <td>...</td>\n",
       "      <td>...</td>\n",
       "      <td>...</td>\n",
       "      <td>...</td>\n",
       "      <td>...</td>\n",
       "      <td>...</td>\n",
       "      <td>...</td>\n",
       "      <td>...</td>\n",
       "      <td>...</td>\n",
       "      <td>...</td>\n",
       "      <td>...</td>\n",
       "      <td>...</td>\n",
       "      <td>...</td>\n",
       "      <td>...</td>\n",
       "      <td>...</td>\n",
       "    </tr>\n",
       "    <tr>\n",
       "      <th>4872</th>\n",
       "      <td>Kepler-1896 b</td>\n",
       "      <td>b</td>\n",
       "      <td>Kepler-1896</td>\n",
       "      <td>TIC 394175334</td>\n",
       "      <td>2021-11</td>\n",
       "      <td>2021</td>\n",
       "      <td>Transit</td>\n",
       "      <td>Space</td>\n",
       "      <td>Kepler</td>\n",
       "      <td>Kepler CCD Array</td>\n",
       "      <td>...</td>\n",
       "      <td>536.0</td>\n",
       "      <td>1.81</td>\n",
       "      <td>4.1990</td>\n",
       "      <td>0.277</td>\n",
       "      <td>3.099</td>\n",
       "      <td>9.80</td>\n",
       "      <td>NaN</td>\n",
       "      <td>1.07</td>\n",
       "      <td>1</td>\n",
       "      <td>1732.910</td>\n",
       "    </tr>\n",
       "    <tr>\n",
       "      <th>4873</th>\n",
       "      <td>Kepler-1897 b</td>\n",
       "      <td>b</td>\n",
       "      <td>Kepler-1897</td>\n",
       "      <td>TIC 138645719</td>\n",
       "      <td>2021-11</td>\n",
       "      <td>2021</td>\n",
       "      <td>Transit</td>\n",
       "      <td>Space</td>\n",
       "      <td>Kepler</td>\n",
       "      <td>Kepler CCD Array</td>\n",
       "      <td>...</td>\n",
       "      <td>505.0</td>\n",
       "      <td>2.05</td>\n",
       "      <td>3.2710</td>\n",
       "      <td>0.251</td>\n",
       "      <td>2.814</td>\n",
       "      <td>8.32</td>\n",
       "      <td>4.20</td>\n",
       "      <td>0.86</td>\n",
       "      <td>1</td>\n",
       "      <td>983.174</td>\n",
       "    </tr>\n",
       "    <tr>\n",
       "      <th>4874</th>\n",
       "      <td>Kepler-1899 b</td>\n",
       "      <td>b</td>\n",
       "      <td>Kepler-1899</td>\n",
       "      <td>TIC 137348756</td>\n",
       "      <td>2021-11</td>\n",
       "      <td>2021</td>\n",
       "      <td>Transit</td>\n",
       "      <td>Space</td>\n",
       "      <td>Kepler</td>\n",
       "      <td>Kepler CCD Array</td>\n",
       "      <td>...</td>\n",
       "      <td>851.0</td>\n",
       "      <td>4.45</td>\n",
       "      <td>1.7040</td>\n",
       "      <td>0.138</td>\n",
       "      <td>1.551</td>\n",
       "      <td>3.02</td>\n",
       "      <td>13.90</td>\n",
       "      <td>0.76</td>\n",
       "      <td>1</td>\n",
       "      <td>711.509</td>\n",
       "    </tr>\n",
       "    <tr>\n",
       "      <th>4875</th>\n",
       "      <td>Kepler-1904 b</td>\n",
       "      <td>b</td>\n",
       "      <td>Kepler-1904</td>\n",
       "      <td>TIC 299089587</td>\n",
       "      <td>2021-11</td>\n",
       "      <td>2021</td>\n",
       "      <td>Transit</td>\n",
       "      <td>Space</td>\n",
       "      <td>Kepler</td>\n",
       "      <td>Kepler CCD Array</td>\n",
       "      <td>...</td>\n",
       "      <td>567.0</td>\n",
       "      <td>5.13</td>\n",
       "      <td>0.9490</td>\n",
       "      <td>0.124</td>\n",
       "      <td>1.390</td>\n",
       "      <td>2.51</td>\n",
       "      <td>1.20</td>\n",
       "      <td>0.53</td>\n",
       "      <td>1</td>\n",
       "      <td>270.854</td>\n",
       "    </tr>\n",
       "    <tr>\n",
       "      <th>4876</th>\n",
       "      <td>Kepler-1905 b</td>\n",
       "      <td>b</td>\n",
       "      <td>Kepler-1905</td>\n",
       "      <td>TIC 63362238</td>\n",
       "      <td>2021-11</td>\n",
       "      <td>2021</td>\n",
       "      <td>Transit</td>\n",
       "      <td>Space</td>\n",
       "      <td>Kepler</td>\n",
       "      <td>Kepler CCD Array</td>\n",
       "      <td>...</td>\n",
       "      <td>1212.0</td>\n",
       "      <td>4.89</td>\n",
       "      <td>1.7940</td>\n",
       "      <td>0.129</td>\n",
       "      <td>1.446</td>\n",
       "      <td>2.69</td>\n",
       "      <td>0.30</td>\n",
       "      <td>1.04</td>\n",
       "      <td>1</td>\n",
       "      <td>1051.530</td>\n",
       "    </tr>\n",
       "  </tbody>\n",
       "</table>\n",
       "<p>2673 rows × 22 columns</p>\n",
       "</div>"
      ],
      "text/plain": [
       "            pl_name pl_letter     hostname         tic_id disc_pubdate  \\\n",
       "2      Kepler-276 c         c   Kepler-276  TIC 138213510      2014-02   \n",
       "3      Kepler-829 b         b   Kepler-829  TIC 123451768      2016-05   \n",
       "5      Kepler-477 b         b   Kepler-477  TIC 158633329      2016-05   \n",
       "20    Kepler-1390 b         b  Kepler-1390  TIC 264508835      2016-05   \n",
       "21     Kepler-393 c         c   Kepler-393  TIC 159580535      2014-03   \n",
       "...             ...       ...          ...            ...          ...   \n",
       "4872  Kepler-1896 b         b  Kepler-1896  TIC 394175334      2021-11   \n",
       "4873  Kepler-1897 b         b  Kepler-1897  TIC 138645719      2021-11   \n",
       "4874  Kepler-1899 b         b  Kepler-1899  TIC 137348756      2021-11   \n",
       "4875  Kepler-1904 b         b  Kepler-1904  TIC 299089587      2021-11   \n",
       "4876  Kepler-1905 b         b  Kepler-1905   TIC 63362238      2021-11   \n",
       "\n",
       "      disc_year discoverymethod disc_locale disc_facility   disc_instrument  \\\n",
       "2          2013         Transit       Space        Kepler  Kepler CCD Array   \n",
       "3          2016         Transit       Space        Kepler  Kepler CCD Array   \n",
       "5          2016         Transit       Space        Kepler  Kepler CCD Array   \n",
       "20         2016         Transit       Space        Kepler  Kepler CCD Array   \n",
       "21         2014         Transit       Space        Kepler  Kepler CCD Array   \n",
       "...         ...             ...         ...           ...               ...   \n",
       "4872       2021         Transit       Space        Kepler  Kepler CCD Array   \n",
       "4873       2021         Transit       Space        Kepler  Kepler CCD Array   \n",
       "4874       2021         Transit       Space        Kepler  Kepler CCD Array   \n",
       "4875       2021         Transit       Space        Kepler  Kepler CCD Array   \n",
       "4876       2021         Transit       Space        Kepler  Kepler CCD Array   \n",
       "\n",
       "      ...  pl_eqt  pl_dens  pl_trandur  pl_radj  pl_rade  pl_bmasse  st_age  \\\n",
       "2     ...   563.0     3.74      5.0990    0.259    2.900      16.60    0.40   \n",
       "3     ...   857.0     2.98      2.2442    0.188    2.110       5.10    4.68   \n",
       "5     ...   649.0     3.06      3.3296    0.185    2.070       4.94    2.09   \n",
       "20    ...   934.0     5.89      3.2110    0.105    1.180       1.76    4.47   \n",
       "21    ...   901.0     5.44      5.4010    0.119    1.330       2.33    2.15   \n",
       "...   ...     ...      ...         ...      ...      ...        ...     ...   \n",
       "4872  ...   536.0     1.81      4.1990    0.277    3.099       9.80     NaN   \n",
       "4873  ...   505.0     2.05      3.2710    0.251    2.814       8.32    4.20   \n",
       "4874  ...   851.0     4.45      1.7040    0.138    1.551       3.02   13.90   \n",
       "4875  ...   567.0     5.13      0.9490    0.124    1.390       2.51    1.20   \n",
       "4876  ...  1212.0     4.89      1.7940    0.129    1.446       2.69    0.30   \n",
       "\n",
       "      st_mass  tran_flag   sy_dist  \n",
       "2        1.10          1  1144.860  \n",
       "3        0.98          1  1073.760  \n",
       "5        0.87          1   367.000  \n",
       "20       0.98          1   723.431  \n",
       "21       1.21          1   881.404  \n",
       "...       ...        ...       ...  \n",
       "4872     1.07          1  1732.910  \n",
       "4873     0.86          1   983.174  \n",
       "4874     0.76          1   711.509  \n",
       "4875     0.53          1   270.854  \n",
       "4876     1.04          1  1051.530  \n",
       "\n",
       "[2673 rows x 22 columns]"
      ]
     },
     "execution_count": 17,
     "metadata": {},
     "output_type": "execute_result"
    }
   ],
   "source": [
    "# filtering out just Kepler discovered exoplanets\n",
    "kep_df = confirmed_df.copy()\n",
    "kep_df = kep_df[kep_df['disc_facility'].str.contains(\"Kepler\", na=False) & \n",
    "                kep_df['discoverymethod'].str.contains(\"Transit\", na=False) &\n",
    "               ~kep_df['discoverymethod'].str.contains(\"Variations\", na=False)]\n",
    "\n",
    "\n",
    "kep_df.drop_duplicates(subset=['pl_name'])\n",
    "kep_df"
   ]
  },
  {
   "cell_type": "markdown",
   "id": "7c26ddfa",
   "metadata": {},
   "source": [
    "#### Discovery Years"
   ]
  },
  {
   "cell_type": "markdown",
   "id": "84df9786",
   "metadata": {},
   "source": [
    "Plotting the years of discovered planets by Kepler Mission, Kepler launched <br>\n",
    "on March 7, 2009 and ran until October 30, 2018"
   ]
  },
  {
   "cell_type": "code",
   "execution_count": 18,
   "id": "f52789be",
   "metadata": {},
   "outputs": [
    {
     "data": {
      "image/png": "[encoded data removed]",
      "text/plain": [
       "<Figure size 432x288 with 1 Axes>"
      ]
     },
     "metadata": {
      "needs_background": "light"
     },
     "output_type": "display_data"
    }
   ],
   "source": [
    "plt.subplot()\n",
    "plt.hist(kep_df['disc_year'])\n",
    "plt.title('Kepler Planet Discoveries by Year')\n",
    "\n",
    "\n",
    "plt.savefig('./graphs/kep_disc_by_year.jpg', bbox_inches=\"tight\", dpi=450)\n",
    "plt.show()"
   ]
  },
  {
   "cell_type": "markdown",
   "id": "31adabea",
   "metadata": {},
   "source": [
    "#### Exoplanet Orbital Period"
   ]
  },
  {
   "cell_type": "markdown",
   "id": "8b3510fe",
   "metadata": {},
   "source": [
    "Plotting the distributions of Orbital Periods"
   ]
  },
  {
   "cell_type": "code",
   "execution_count": 19,
   "id": "76840cf5",
   "metadata": {},
   "outputs": [
    {
     "data": {
      "image/png": "[encoded data removed]",
      "text/plain": [
       "<Figure size 432x288 with 1 Axes>"
      ]
     },
     "metadata": {
      "needs_background": "light"
     },
     "output_type": "display_data"
    }
   ],
   "source": [
    "plt.subplot()\n",
    "plt.hist(kep_df['pl_orbper'])\n",
    "plt.title('Planet Orbital Period (days)')\n",
    "\n",
    "\n",
    "plt.savefig('./graphs/planet_orbital_period.jpg', bbox_inches=\"tight\", dpi=450)\n",
    "plt.show()"
   ]
  },
  {
   "cell_type": "code",
   "execution_count": 20,
   "id": "b99f0b29",
   "metadata": {},
   "outputs": [
    {
     "data": {
      "text/html": [
       "<div>\n",
       "<style scoped>\n",
       "    .dataframe tbody tr th:only-of-type {\n",
       "        vertical-align: middle;\n",
       "    }\n",
       "\n",
       "    .dataframe tbody tr th {\n",
       "        vertical-align: top;\n",
       "    }\n",
       "\n",
       "    .dataframe thead th {\n",
       "        text-align: right;\n",
       "    }\n",
       "</style>\n",
       "<table border=\"1\" class=\"dataframe\">\n",
       "  <thead>\n",
       "    <tr style=\"text-align: right;\">\n",
       "      <th></th>\n",
       "      <th>Stat</th>\n",
       "      <th>Value</th>\n",
       "    </tr>\n",
       "  </thead>\n",
       "  <tbody>\n",
       "    <tr>\n",
       "      <th>0</th>\n",
       "      <td>count</td>\n",
       "      <td>2673.000000</td>\n",
       "    </tr>\n",
       "    <tr>\n",
       "      <th>1</th>\n",
       "      <td>mean</td>\n",
       "      <td>30.753326</td>\n",
       "    </tr>\n",
       "    <tr>\n",
       "      <th>2</th>\n",
       "      <td>std</td>\n",
       "      <td>75.882054</td>\n",
       "    </tr>\n",
       "    <tr>\n",
       "      <th>3</th>\n",
       "      <td>min</td>\n",
       "      <td>0.355007</td>\n",
       "    </tr>\n",
       "    <tr>\n",
       "      <th>4</th>\n",
       "      <td>25%</td>\n",
       "      <td>5.194922</td>\n",
       "    </tr>\n",
       "    <tr>\n",
       "      <th>5</th>\n",
       "      <td>50%</td>\n",
       "      <td>11.555300</td>\n",
       "    </tr>\n",
       "    <tr>\n",
       "      <th>6</th>\n",
       "      <td>75%</td>\n",
       "      <td>27.082511</td>\n",
       "    </tr>\n",
       "    <tr>\n",
       "      <th>7</th>\n",
       "      <td>max</td>\n",
       "      <td>1322.300000</td>\n",
       "    </tr>\n",
       "  </tbody>\n",
       "</table>\n",
       "</div>"
      ],
      "text/plain": [
       "    Stat        Value\n",
       "0  count  2673.000000\n",
       "1   mean    30.753326\n",
       "2    std    75.882054\n",
       "3    min     0.355007\n",
       "4    25%     5.194922\n",
       "5    50%    11.555300\n",
       "6    75%    27.082511\n",
       "7    max  1322.300000"
      ]
     },
     "execution_count": 20,
     "metadata": {},
     "output_type": "execute_result"
    }
   ],
   "source": [
    "orbital_period_stats = kep_df['pl_orbper'].describe()\n",
    "orbital_period_stats = orbital_period_stats.to_frame()\n",
    "orbital_period_stats.reset_index(inplace=True)\n",
    "orbital_period_stats.rename(columns={'index':'Stat', 'pl_orbper':'Value'}, inplace=True)\n",
    "orbital_period_stats"
   ]
  },
  {
   "cell_type": "code",
   "execution_count": 21,
   "id": "dbf53aa0",
   "metadata": {},
   "outputs": [
    {
     "data": {
      "image/png": "[encoded data removed]",
      "text/plain": [
       "<Figure size 432x288 with 1 Axes>"
      ]
     },
     "metadata": {
      "needs_background": "light"
     },
     "output_type": "display_data"
    }
   ],
   "source": [
    "# plot a table \n",
    "fig, ax = plt.subplots()\n",
    "\n",
    "# hide the axis\n",
    "fig.patch.set_visible(False)\n",
    "ax.axis('off')\n",
    "ax.axis('tight')\n",
    "\n",
    "#create the table\n",
    "table = ax.table(cellText=orbital_period_stats.values, colLabels = orbital_period_stats.columns, loc='center')\n",
    "\n",
    "# disply and save the table\n",
    "name = \"Orbital Period Stats\"\n",
    "plt.title(name, y=1.0, pad=-60)\n",
    "fig.tight_layout()\n",
    "plt.savefig('./graphs/orbital_period_stats.jpg', bbox_inches=\"tight\", dpi=300)\n",
    "plt.show()"
   ]
  },
  {
   "cell_type": "markdown",
   "id": "349635e2",
   "metadata": {},
   "source": [
    "#### Exoplanet Equilibrium Temperatures"
   ]
  },
  {
   "cell_type": "markdown",
   "id": "b9fa6f81",
   "metadata": {},
   "source": [
    "Plotting the distribution of temperatures in Kelvin"
   ]
  },
  {
   "cell_type": "code",
   "execution_count": 22,
   "id": "e77dc664",
   "metadata": {},
   "outputs": [
    {
     "data": {
      "image/png": "[encoded data removed]",
      "text/plain": [
       "<Figure size 432x288 with 1 Axes>"
      ]
     },
     "metadata": {
      "needs_background": "light"
     },
     "output_type": "display_data"
    }
   ],
   "source": [
    "plt.subplot()\n",
    "plt.hist(kep_df['pl_eqt'])\n",
    "plt.title('Planet EQT[K]')\n",
    "\n",
    "\n",
    "plt.savefig('./graphs/planet_temps.jpg', bbox_inches=\"tight\", dpi=450)\n",
    "plt.show()"
   ]
  },
  {
   "cell_type": "code",
   "execution_count": 23,
   "id": "e79dc846",
   "metadata": {},
   "outputs": [
    {
     "data": {
      "image/png": "[encoded data removed]",
      "text/plain": [
       "<Figure size 432x288 with 1 Axes>"
      ]
     },
     "metadata": {
      "needs_background": "light"
     },
     "output_type": "display_data"
    }
   ],
   "source": [
    "# scatter plot of orbital period and temp\n",
    "x = kep_df['pl_orbper']\n",
    "y = kep_df['pl_eqt']\n",
    "\n",
    "plt.scatter(x, y)\n",
    "plt.title('Planet Temp v Orbital Period')\n",
    "plt.savefig('./graphs/planet_temp_orbital_period_scatter.jpg', bbox_inches=\"tight\", dpi=450)\n",
    "plt.show()"
   ]
  },
  {
   "cell_type": "markdown",
   "id": "1e98b3ce",
   "metadata": {},
   "source": [
    "#### Exoplanet Density"
   ]
  },
  {
   "cell_type": "markdown",
   "id": "679db48f",
   "metadata": {},
   "source": [
    "Plotting the density of exoplanets in (g/cm**3)"
   ]
  },
  {
   "cell_type": "code",
   "execution_count": 24,
   "id": "9ebc47b9",
   "metadata": {},
   "outputs": [
    {
     "data": {
      "image/png": "[encoded data removed]",
      "text/plain": [
       "<Figure size 432x288 with 1 Axes>"
      ]
     },
     "metadata": {
      "needs_background": "light"
     },
     "output_type": "display_data"
    }
   ],
   "source": [
    "# hostogram of planet desnities\n",
    "plt.subplot()\n",
    "data = kep_df['pl_dens']\n",
    "plt.hist(data, bins=np.arange(min(data), max(data) + 100, 100))\n",
    "plt.title('Planet Density[g/cm**3]')\n",
    "\n",
    "\n",
    "plt.savefig('./graphs/planet_density.jpg', bbox_inches=\"tight\", dpi=450)\n",
    "plt.show()"
   ]
  },
  {
   "cell_type": "code",
   "execution_count": 25,
   "id": "8f802f22",
   "metadata": {},
   "outputs": [
    {
     "data": {
      "text/plain": [
       "1290.0"
      ]
     },
     "execution_count": 25,
     "metadata": {},
     "output_type": "execute_result"
    }
   ],
   "source": [
    "max_density = kep_df['pl_dens'].max()\n",
    "max_density"
   ]
  },
  {
   "cell_type": "code",
   "execution_count": 26,
   "id": "64b58593",
   "metadata": {},
   "outputs": [
    {
     "data": {
      "text/plain": [
       "0.03"
      ]
     },
     "execution_count": 26,
     "metadata": {},
     "output_type": "execute_result"
    }
   ],
   "source": [
    "min_density = kep_df['pl_dens'].min()\n",
    "min_density"
   ]
  },
  {
   "cell_type": "code",
   "execution_count": 27,
   "id": "fbb018ad",
   "metadata": {},
   "outputs": [
    {
     "data": {
      "text/plain": [
       "0    4.99\n",
       "1    5.71\n",
       "dtype: float64"
      ]
     },
     "execution_count": 27,
     "metadata": {},
     "output_type": "execute_result"
    }
   ],
   "source": [
    "mode_density = kep_df['pl_dens'].mode()\n",
    "mode_density"
   ]
  },
  {
   "cell_type": "code",
   "execution_count": 28,
   "id": "1565009c",
   "metadata": {},
   "outputs": [
    {
     "data": {
      "text/plain": [
       "3.065"
      ]
     },
     "execution_count": 28,
     "metadata": {},
     "output_type": "execute_result"
    }
   ],
   "source": [
    "median_density = kep_df['pl_dens'].median()\n",
    "median_density"
   ]
  },
  {
   "cell_type": "code",
   "execution_count": 29,
   "id": "ca66487f",
   "metadata": {},
   "outputs": [
    {
     "data": {
      "image/png": "[encoded data removed]",
      "text/plain": [
       "<Figure size 432x288 with 1 Axes>"
      ]
     },
     "metadata": {
      "needs_background": "light"
     },
     "output_type": "display_data"
    }
   ],
   "source": [
    "# scatter plot of density and temp\n",
    "x = kep_df['pl_dens']\n",
    "y = kep_df['pl_eqt']\n",
    "\n",
    "plt.scatter(x, y)\n",
    "plt.title('Planet Density v EQTemp')\n",
    "plt.savefig('./graphs/planet_density_scatter.jpg', bbox_inches=\"tight\", dpi=450)\n",
    "plt.show()"
   ]
  },
  {
   "cell_type": "code",
   "execution_count": 30,
   "id": "968bb3fd",
   "metadata": {},
   "outputs": [
    {
     "data": {
      "image/png": "[encoded data removed]",
      "text/plain": [
       "<Figure size 432x288 with 1 Axes>"
      ]
     },
     "metadata": {
      "needs_background": "light"
     },
     "output_type": "display_data"
    }
   ],
   "source": [
    "# scatter plot of density and orbital period\n",
    "x = kep_df['pl_dens']\n",
    "y = kep_df['pl_orbper']\n",
    "\n",
    "plt.scatter(x, y)\n",
    "plt.title('Planet Density v Orbital Period')\n",
    "plt.savefig('./graphs/planet_density_orb_period_scatter.jpg', bbox_inches=\"tight\", dpi=450)\n",
    "plt.show()"
   ]
  },
  {
   "cell_type": "code",
   "execution_count": 31,
   "id": "a8526b47",
   "metadata": {},
   "outputs": [
    {
     "data": {
      "text/html": [
       "<div>\n",
       "<style scoped>\n",
       "    .dataframe tbody tr th:only-of-type {\n",
       "        vertical-align: middle;\n",
       "    }\n",
       "\n",
       "    .dataframe tbody tr th {\n",
       "        vertical-align: top;\n",
       "    }\n",
       "\n",
       "    .dataframe thead th {\n",
       "        text-align: right;\n",
       "    }\n",
       "</style>\n",
       "<table border=\"1\" class=\"dataframe\">\n",
       "  <thead>\n",
       "    <tr style=\"text-align: right;\">\n",
       "      <th></th>\n",
       "      <th>Stat</th>\n",
       "      <th>Value</th>\n",
       "    </tr>\n",
       "  </thead>\n",
       "  <tbody>\n",
       "    <tr>\n",
       "      <th>0</th>\n",
       "      <td>count</td>\n",
       "      <td>2606.000000</td>\n",
       "    </tr>\n",
       "    <tr>\n",
       "      <th>1</th>\n",
       "      <td>mean</td>\n",
       "      <td>5.092675</td>\n",
       "    </tr>\n",
       "    <tr>\n",
       "      <th>2</th>\n",
       "      <td>std</td>\n",
       "      <td>29.954707</td>\n",
       "    </tr>\n",
       "    <tr>\n",
       "      <th>3</th>\n",
       "      <td>min</td>\n",
       "      <td>0.030000</td>\n",
       "    </tr>\n",
       "    <tr>\n",
       "      <th>4</th>\n",
       "      <td>25%</td>\n",
       "      <td>2.050000</td>\n",
       "    </tr>\n",
       "    <tr>\n",
       "      <th>5</th>\n",
       "      <td>50%</td>\n",
       "      <td>3.065000</td>\n",
       "    </tr>\n",
       "    <tr>\n",
       "      <th>6</th>\n",
       "      <td>75%</td>\n",
       "      <td>4.770000</td>\n",
       "    </tr>\n",
       "    <tr>\n",
       "      <th>7</th>\n",
       "      <td>max</td>\n",
       "      <td>1290.000000</td>\n",
       "    </tr>\n",
       "  </tbody>\n",
       "</table>\n",
       "</div>"
      ],
      "text/plain": [
       "    Stat        Value\n",
       "0  count  2606.000000\n",
       "1   mean     5.092675\n",
       "2    std    29.954707\n",
       "3    min     0.030000\n",
       "4    25%     2.050000\n",
       "5    50%     3.065000\n",
       "6    75%     4.770000\n",
       "7    max  1290.000000"
      ]
     },
     "execution_count": 31,
     "metadata": {},
     "output_type": "execute_result"
    }
   ],
   "source": [
    "earth_density_stats = kep_df['pl_dens'].describe()\n",
    "earth_density_stats = earth_density_stats.to_frame()\n",
    "earth_density_stats.reset_index(inplace=True)\n",
    "earth_density_stats.rename(columns={'index':'Stat', 'pl_dens':'Value'}, inplace=True)\n",
    "earth_density_stats"
   ]
  },
  {
   "cell_type": "code",
   "execution_count": 32,
   "id": "a75e2849",
   "metadata": {},
   "outputs": [
    {
     "data": {
      "image/png": "[encoded data removed]",
      "text/plain": [
       "<Figure size 432x288 with 1 Axes>"
      ]
     },
     "metadata": {
      "needs_background": "light"
     },
     "output_type": "display_data"
    }
   ],
   "source": [
    "# plot a table \n",
    "fig, ax = plt.subplots()\n",
    "\n",
    "# hide the axis\n",
    "fig.patch.set_visible(False)\n",
    "ax.axis('off')\n",
    "ax.axis('tight')\n",
    "\n",
    "#create the table\n",
    "table = ax.table(cellText=earth_density_stats.values, colLabels = earth_density_stats.columns, loc='center')\n",
    "\n",
    "# disply and save the table\n",
    "name = \"Planet Density Stats\"\n",
    "plt.title(name, y=1.0, pad=-60)\n",
    "fig.tight_layout()\n",
    "plt.savefig('./graphs/planet_density_stats.jpg', bbox_inches=\"tight\", dpi=300)\n",
    "plt.show()"
   ]
  },
  {
   "cell_type": "markdown",
   "id": "7926f731",
   "metadata": {},
   "source": [
    "#### Exoplanet Transit Durations"
   ]
  },
  {
   "cell_type": "markdown",
   "id": "00104072",
   "metadata": {},
   "source": [
    "Transit duration is set in days and is the duration for the transit across the star."
   ]
  },
  {
   "cell_type": "code",
   "execution_count": 33,
   "id": "52bea596",
   "metadata": {},
   "outputs": [
    {
     "data": {
      "image/png": "[encoded data removed]",
      "text/plain": [
       "<Figure size 432x288 with 1 Axes>"
      ]
     },
     "metadata": {
      "needs_background": "light"
     },
     "output_type": "display_data"
    }
   ],
   "source": [
    "plt.subplot()\n",
    "data = kep_df['pl_trandur']\n",
    "plt.hist(data, bins=np.arange(min(data), max(data) + 1, 1))\n",
    "plt.title('Planet Transit Duration')\n",
    "\n",
    "\n",
    "plt.savefig('./graphs/kep_transit_durations.jpg', bbox_inches=\"tight\", dpi=450)\n",
    "plt.show()"
   ]
  },
  {
   "cell_type": "code",
   "execution_count": 34,
   "id": "f0cfac65",
   "metadata": {},
   "outputs": [
    {
     "data": {
      "image/png": "[encoded data removed]",
      "text/plain": [
       "<Figure size 432x288 with 1 Axes>"
      ]
     },
     "metadata": {
      "needs_background": "light"
     },
     "output_type": "display_data"
    }
   ],
   "source": [
    "# checking for any relationship between the duration and the temperature\n",
    "x = kep_df['pl_trandur']\n",
    "y = kep_df['pl_eqt']\n",
    "\n",
    "plt.scatter(x, y)\n",
    "plt.title('Planet Transit Duration vs Temp')\n",
    "plt.savefig('./graphs/planet_trans_and_temp_scatter.jpg', bbox_inches=\"tight\", dpi=450)\n",
    "plt.show()"
   ]
  },
  {
   "cell_type": "code",
   "execution_count": 35,
   "id": "65340d45",
   "metadata": {},
   "outputs": [
    {
     "data": {
      "image/png": "[encoded data removed]",
      "text/plain": [
       "<Figure size 432x288 with 1 Axes>"
      ]
     },
     "metadata": {
      "needs_background": "light"
     },
     "output_type": "display_data"
    }
   ],
   "source": [
    "# checking for any relationship between the duration and the period\n",
    "x = kep_df['pl_trandur']\n",
    "y = kep_df['pl_orbper']\n",
    "\n",
    "plt.scatter(x, y)\n",
    "plt.title('Planet Transit Duration vs Total Orbital Period')\n",
    "plt.savefig('./graphs/planet_trans_and_orbper_scatter.jpg', bbox_inches=\"tight\", dpi=450)\n",
    "plt.show()"
   ]
  },
  {
   "cell_type": "markdown",
   "id": "6b40eaf4",
   "metadata": {},
   "source": [
    "#### Exoplanet Earth Mass"
   ]
  },
  {
   "cell_type": "markdown",
   "id": "2f53a5f1",
   "metadata": {},
   "source": [
    "The Earth Mass equivalent of the exoplanet found"
   ]
  },
  {
   "cell_type": "code",
   "execution_count": 36,
   "id": "babb2202",
   "metadata": {},
   "outputs": [
    {
     "data": {
      "image/png": "[encoded data removed]",
      "text/plain": [
       "<Figure size 432x288 with 1 Axes>"
      ]
     },
     "metadata": {
      "needs_background": "light"
     },
     "output_type": "display_data"
    }
   ],
   "source": [
    "plt.subplot()\n",
    "data = kep_df['pl_bmasse']\n",
    "plt.hist(data)\n",
    "plt.title('Planet Earth Mass')\n",
    "\n",
    "\n",
    "plt.savefig('./graphs/kep_earth_mass.jpg', bbox_inches=\"tight\", dpi=450)\n",
    "plt.show()"
   ]
  },
  {
   "cell_type": "code",
   "execution_count": 37,
   "id": "8d1d25a8",
   "metadata": {},
   "outputs": [
    {
     "data": {
      "image/png": "[encoded data removed]",
      "text/plain": [
       "<Figure size 432x288 with 1 Axes>"
      ]
     },
     "metadata": {
      "needs_background": "light"
     },
     "output_type": "display_data"
    }
   ],
   "source": [
    "# scatter plot of earth mass and orbital period\n",
    "x = kep_df['pl_bmasse']\n",
    "y = kep_df['pl_orbper']\n",
    "\n",
    "plt.scatter(x, y)\n",
    "plt.title('Planet Mass v Orbital Period')\n",
    "plt.savefig('./graphs/planet_mass_orbper_scatter.jpg', bbox_inches=\"tight\", dpi=450)\n",
    "plt.show()"
   ]
  },
  {
   "cell_type": "code",
   "execution_count": 38,
   "id": "22f5f96d",
   "metadata": {},
   "outputs": [
    {
     "data": {
      "text/plain": [
       "0    3.33\n",
       "dtype: float64"
      ]
     },
     "execution_count": 38,
     "metadata": {},
     "output_type": "execute_result"
    }
   ],
   "source": [
    "earth_mass_mode = kep_df['pl_bmasse'].mode()\n",
    "earth_mass_mode"
   ]
  },
  {
   "cell_type": "code",
   "execution_count": 39,
   "id": "63f2a709",
   "metadata": {},
   "outputs": [
    {
     "data": {
      "text/plain": [
       "0.0374"
      ]
     },
     "execution_count": 39,
     "metadata": {},
     "output_type": "execute_result"
    }
   ],
   "source": [
    "earth_mass_min = kep_df['pl_bmasse'].min()\n",
    "earth_mass_min"
   ]
  },
  {
   "cell_type": "code",
   "execution_count": 40,
   "id": "00948022",
   "metadata": {},
   "outputs": [
    {
     "data": {
      "text/plain": [
       "43000.0"
      ]
     },
     "execution_count": 40,
     "metadata": {},
     "output_type": "execute_result"
    }
   ],
   "source": [
    "earth_mass_max = kep_df['pl_bmasse'].max()\n",
    "earth_mass_max"
   ]
  },
  {
   "cell_type": "code",
   "execution_count": 41,
   "id": "8aa43bb3",
   "metadata": {},
   "outputs": [
    {
     "data": {
      "text/plain": [
       "156.51208530673722"
      ]
     },
     "execution_count": 41,
     "metadata": {},
     "output_type": "execute_result"
    }
   ],
   "source": [
    "earth_mass_mean = kep_df['pl_bmasse'].mean()\n",
    "earth_mass_mean"
   ]
  },
  {
   "cell_type": "code",
   "execution_count": 42,
   "id": "8a2cb117",
   "metadata": {},
   "outputs": [
    {
     "data": {
      "text/plain": [
       "5.39"
      ]
     },
     "execution_count": 42,
     "metadata": {},
     "output_type": "execute_result"
    }
   ],
   "source": [
    "earth_mass_median = kep_df['pl_bmasse'].median()\n",
    "earth_mass_median"
   ]
  },
  {
   "cell_type": "code",
   "execution_count": 43,
   "id": "9c7b61b7",
   "metadata": {},
   "outputs": [
    {
     "data": {
      "text/html": [
       "<div>\n",
       "<style scoped>\n",
       "    .dataframe tbody tr th:only-of-type {\n",
       "        vertical-align: middle;\n",
       "    }\n",
       "\n",
       "    .dataframe tbody tr th {\n",
       "        vertical-align: top;\n",
       "    }\n",
       "\n",
       "    .dataframe thead th {\n",
       "        text-align: right;\n",
       "    }\n",
       "</style>\n",
       "<table border=\"1\" class=\"dataframe\">\n",
       "  <thead>\n",
       "    <tr style=\"text-align: right;\">\n",
       "      <th></th>\n",
       "      <th>Stat</th>\n",
       "      <th>Value</th>\n",
       "    </tr>\n",
       "  </thead>\n",
       "  <tbody>\n",
       "    <tr>\n",
       "      <th>0</th>\n",
       "      <td>count</td>\n",
       "      <td>2657.000000</td>\n",
       "    </tr>\n",
       "    <tr>\n",
       "      <th>1</th>\n",
       "      <td>mean</td>\n",
       "      <td>156.512085</td>\n",
       "    </tr>\n",
       "    <tr>\n",
       "      <th>2</th>\n",
       "      <td>std</td>\n",
       "      <td>2204.692704</td>\n",
       "    </tr>\n",
       "    <tr>\n",
       "      <th>3</th>\n",
       "      <td>min</td>\n",
       "      <td>0.037400</td>\n",
       "    </tr>\n",
       "    <tr>\n",
       "      <th>4</th>\n",
       "      <td>25%</td>\n",
       "      <td>2.890000</td>\n",
       "    </tr>\n",
       "    <tr>\n",
       "      <th>5</th>\n",
       "      <td>50%</td>\n",
       "      <td>5.390000</td>\n",
       "    </tr>\n",
       "    <tr>\n",
       "      <th>6</th>\n",
       "      <td>75%</td>\n",
       "      <td>9.010000</td>\n",
       "    </tr>\n",
       "    <tr>\n",
       "      <th>7</th>\n",
       "      <td>max</td>\n",
       "      <td>43000.000000</td>\n",
       "    </tr>\n",
       "  </tbody>\n",
       "</table>\n",
       "</div>"
      ],
      "text/plain": [
       "    Stat         Value\n",
       "0  count   2657.000000\n",
       "1   mean    156.512085\n",
       "2    std   2204.692704\n",
       "3    min      0.037400\n",
       "4    25%      2.890000\n",
       "5    50%      5.390000\n",
       "6    75%      9.010000\n",
       "7    max  43000.000000"
      ]
     },
     "execution_count": 43,
     "metadata": {},
     "output_type": "execute_result"
    }
   ],
   "source": [
    "earth_mass_stats = kep_df['pl_bmasse'].describe()\n",
    "earth_mass_stats = earth_mass_stats.to_frame()\n",
    "earth_mass_stats.reset_index(inplace=True)\n",
    "earth_mass_stats.rename(columns={'index':'Stat', 'pl_bmasse':'Value'}, inplace=True)\n",
    "earth_mass_stats"
   ]
  },
  {
   "cell_type": "code",
   "execution_count": 44,
   "id": "6355d317",
   "metadata": {},
   "outputs": [
    {
     "data": {
      "image/png": "[encoded data removed]",
      "text/plain": [
       "<Figure size 432x288 with 1 Axes>"
      ]
     },
     "metadata": {
      "needs_background": "light"
     },
     "output_type": "display_data"
    }
   ],
   "source": [
    "# plot a table \n",
    "fig, ax = plt.subplots()\n",
    "\n",
    "# hide the axis\n",
    "fig.patch.set_visible(False)\n",
    "ax.axis('off')\n",
    "ax.axis('tight')\n",
    "\n",
    "#create the table\n",
    "table = ax.table(cellText=earth_mass_stats.values, colLabels = earth_mass_stats.columns, loc='center')\n",
    "\n",
    "# disply and save the table\n",
    "name = \"Earth Mass Stats\"\n",
    "plt.title(name, y=1.0, pad=-60)\n",
    "fig.tight_layout()\n",
    "plt.savefig('./graphs/earth_mass_stats.jpg', bbox_inches=\"tight\", dpi=300)\n",
    "plt.show()"
   ]
  },
  {
   "cell_type": "markdown",
   "id": "8148fde0",
   "metadata": {},
   "source": [
    "#### Exoplanet in Jupiter Radius"
   ]
  },
  {
   "cell_type": "markdown",
   "id": "1f0689dc",
   "metadata": {},
   "source": [
    "Plot the Jupiter radius distributions between the exoplanets discovered"
   ]
  },
  {
   "cell_type": "code",
   "execution_count": 45,
   "id": "83429091",
   "metadata": {},
   "outputs": [
    {
     "data": {
      "image/png": "[encoded data removed]",
      "text/plain": [
       "<Figure size 432x288 with 1 Axes>"
      ]
     },
     "metadata": {
      "needs_background": "light"
     },
     "output_type": "display_data"
    }
   ],
   "source": [
    "plt.subplot()\n",
    "data = kep_df['pl_radj']\n",
    "plt.hist(data, bins=np.arange(min(data), max(data) + 0.01, 0.01))\n",
    "plt.title('Planet Juptier Radius')\n",
    "\n",
    "\n",
    "plt.savefig('./graphs/kep_jupiter_radius.jpg', bbox_inches=\"tight\", dpi=450)\n",
    "plt.show()"
   ]
  },
  {
   "cell_type": "code",
   "execution_count": 46,
   "id": "e8b3632f",
   "metadata": {},
   "outputs": [
    {
     "data": {
      "text/html": [
       "<div>\n",
       "<style scoped>\n",
       "    .dataframe tbody tr th:only-of-type {\n",
       "        vertical-align: middle;\n",
       "    }\n",
       "\n",
       "    .dataframe tbody tr th {\n",
       "        vertical-align: top;\n",
       "    }\n",
       "\n",
       "    .dataframe thead th {\n",
       "        text-align: right;\n",
       "    }\n",
       "</style>\n",
       "<table border=\"1\" class=\"dataframe\">\n",
       "  <thead>\n",
       "    <tr style=\"text-align: right;\">\n",
       "      <th></th>\n",
       "      <th>Stat</th>\n",
       "      <th>Value</th>\n",
       "    </tr>\n",
       "  </thead>\n",
       "  <tbody>\n",
       "    <tr>\n",
       "      <th>0</th>\n",
       "      <td>count</td>\n",
       "      <td>2673.000000</td>\n",
       "    </tr>\n",
       "    <tr>\n",
       "      <th>1</th>\n",
       "      <td>mean</td>\n",
       "      <td>0.238951</td>\n",
       "    </tr>\n",
       "    <tr>\n",
       "      <th>2</th>\n",
       "      <td>std</td>\n",
       "      <td>0.206891</td>\n",
       "    </tr>\n",
       "    <tr>\n",
       "      <th>3</th>\n",
       "      <td>min</td>\n",
       "      <td>0.026000</td>\n",
       "    </tr>\n",
       "    <tr>\n",
       "      <th>4</th>\n",
       "      <td>25%</td>\n",
       "      <td>0.133000</td>\n",
       "    </tr>\n",
       "    <tr>\n",
       "      <th>5</th>\n",
       "      <td>50%</td>\n",
       "      <td>0.192000</td>\n",
       "    </tr>\n",
       "    <tr>\n",
       "      <th>6</th>\n",
       "      <td>75%</td>\n",
       "      <td>0.256000</td>\n",
       "    </tr>\n",
       "    <tr>\n",
       "      <th>7</th>\n",
       "      <td>max</td>\n",
       "      <td>1.990000</td>\n",
       "    </tr>\n",
       "  </tbody>\n",
       "</table>\n",
       "</div>"
      ],
      "text/plain": [
       "    Stat        Value\n",
       "0  count  2673.000000\n",
       "1   mean     0.238951\n",
       "2    std     0.206891\n",
       "3    min     0.026000\n",
       "4    25%     0.133000\n",
       "5    50%     0.192000\n",
       "6    75%     0.256000\n",
       "7    max     1.990000"
      ]
     },
     "execution_count": 46,
     "metadata": {},
     "output_type": "execute_result"
    }
   ],
   "source": [
    "jupiter_radius_stats = kep_df['pl_radj'].describe()\n",
    "jupiter_radius_stats = jupiter_radius_stats.to_frame()\n",
    "jupiter_radius_stats.reset_index(inplace=True)\n",
    "jupiter_radius_stats.rename(columns={'index':'Stat', 'pl_radj':'Value'}, inplace=True)\n",
    "jupiter_radius_stats"
   ]
  },
  {
   "cell_type": "code",
   "execution_count": 47,
   "id": "ebc1831a",
   "metadata": {},
   "outputs": [
    {
     "data": {
      "image/png": "[encoded data removed]",
      "text/plain": [
       "<Figure size 432x288 with 1 Axes>"
      ]
     },
     "metadata": {
      "needs_background": "light"
     },
     "output_type": "display_data"
    }
   ],
   "source": [
    "# plot a table \n",
    "fig, ax = plt.subplots()\n",
    "\n",
    "# hide the axis\n",
    "fig.patch.set_visible(False)\n",
    "ax.axis('off')\n",
    "ax.axis('tight')\n",
    "\n",
    "#create the table\n",
    "table = ax.table(cellText=jupiter_radius_stats.values, colLabels = jupiter_radius_stats.columns, loc='center')\n",
    "\n",
    "# disply and save the table\n",
    "name = \"Juptier Radius Stats\"\n",
    "plt.title(name, y=1.0, pad=-60)\n",
    "fig.tight_layout()\n",
    "plt.savefig('./graphs/jupiter_radius_stats.jpg', bbox_inches=\"tight\", dpi=300)\n",
    "plt.show()"
   ]
  },
  {
   "cell_type": "markdown",
   "id": "2f508bda",
   "metadata": {},
   "source": [
    "#### Exoplanet in Earth Radius"
   ]
  },
  {
   "cell_type": "markdown",
   "id": "40d49e4f",
   "metadata": {},
   "source": [
    "Plot the Earth radius distributions between the exoplanets discovered"
   ]
  },
  {
   "cell_type": "code",
   "execution_count": 48,
   "id": "69d444b2",
   "metadata": {},
   "outputs": [
    {
     "data": {
      "image/png": "[encoded data removed]",
      "text/plain": [
       "<Figure size 432x288 with 1 Axes>"
      ]
     },
     "metadata": {
      "needs_background": "light"
     },
     "output_type": "display_data"
    }
   ],
   "source": [
    "plt.subplot()\n",
    "data = kep_df['pl_rade']\n",
    "plt.hist(data, bins=np.arange(min(data), max(data) + 1, 1))\n",
    "plt.title('Planet in Earth Radius')\n",
    "\n",
    "\n",
    "plt.savefig('./graphs/kep_earth_radius.jpg', bbox_inches=\"tight\", dpi=450)\n",
    "plt.show()"
   ]
  },
  {
   "cell_type": "code",
   "execution_count": 49,
   "id": "69dc6055",
   "metadata": {},
   "outputs": [
    {
     "data": {
      "text/html": [
       "<div>\n",
       "<style scoped>\n",
       "    .dataframe tbody tr th:only-of-type {\n",
       "        vertical-align: middle;\n",
       "    }\n",
       "\n",
       "    .dataframe tbody tr th {\n",
       "        vertical-align: top;\n",
       "    }\n",
       "\n",
       "    .dataframe thead th {\n",
       "        text-align: right;\n",
       "    }\n",
       "</style>\n",
       "<table border=\"1\" class=\"dataframe\">\n",
       "  <thead>\n",
       "    <tr style=\"text-align: right;\">\n",
       "      <th></th>\n",
       "      <th>Stat</th>\n",
       "      <th>Value</th>\n",
       "    </tr>\n",
       "  </thead>\n",
       "  <tbody>\n",
       "    <tr>\n",
       "      <th>0</th>\n",
       "      <td>count</td>\n",
       "      <td>2673.000000</td>\n",
       "    </tr>\n",
       "    <tr>\n",
       "      <th>1</th>\n",
       "      <td>mean</td>\n",
       "      <td>2.678313</td>\n",
       "    </tr>\n",
       "    <tr>\n",
       "      <th>2</th>\n",
       "      <td>std</td>\n",
       "      <td>2.319057</td>\n",
       "    </tr>\n",
       "    <tr>\n",
       "      <th>3</th>\n",
       "      <td>min</td>\n",
       "      <td>0.296000</td>\n",
       "    </tr>\n",
       "    <tr>\n",
       "      <th>4</th>\n",
       "      <td>25%</td>\n",
       "      <td>1.490000</td>\n",
       "    </tr>\n",
       "    <tr>\n",
       "      <th>5</th>\n",
       "      <td>50%</td>\n",
       "      <td>2.150000</td>\n",
       "    </tr>\n",
       "    <tr>\n",
       "      <th>6</th>\n",
       "      <td>75%</td>\n",
       "      <td>2.870000</td>\n",
       "    </tr>\n",
       "    <tr>\n",
       "      <th>7</th>\n",
       "      <td>max</td>\n",
       "      <td>22.310000</td>\n",
       "    </tr>\n",
       "  </tbody>\n",
       "</table>\n",
       "</div>"
      ],
      "text/plain": [
       "    Stat        Value\n",
       "0  count  2673.000000\n",
       "1   mean     2.678313\n",
       "2    std     2.319057\n",
       "3    min     0.296000\n",
       "4    25%     1.490000\n",
       "5    50%     2.150000\n",
       "6    75%     2.870000\n",
       "7    max    22.310000"
      ]
     },
     "execution_count": 49,
     "metadata": {},
     "output_type": "execute_result"
    }
   ],
   "source": [
    "earth_radius_stats = kep_df['pl_rade'].describe()\n",
    "earth_radius_stats = earth_radius_stats.to_frame()\n",
    "earth_radius_stats.reset_index(inplace=True)\n",
    "earth_radius_stats.rename(columns={'index':'Stat', 'pl_rade':'Value'}, inplace=True)\n",
    "earth_radius_stats"
   ]
  },
  {
   "cell_type": "code",
   "execution_count": 50,
   "id": "7f8a47ba",
   "metadata": {},
   "outputs": [
    {
     "data": {
      "image/png": "[encoded data removed]",
      "text/plain": [
       "<Figure size 432x288 with 1 Axes>"
      ]
     },
     "metadata": {
      "needs_background": "light"
     },
     "output_type": "display_data"
    }
   ],
   "source": [
    "# plot a table \n",
    "fig, ax = plt.subplots()\n",
    "\n",
    "# hide the axis\n",
    "fig.patch.set_visible(False)\n",
    "ax.axis('off')\n",
    "ax.axis('tight')\n",
    "\n",
    "#create the table\n",
    "table = ax.table(cellText=earth_radius_stats.values, colLabels = earth_radius_stats.columns, loc='center')\n",
    "\n",
    "# disply and save the table\n",
    "name = \"Earth Radius Stats\"\n",
    "plt.title(name, y=1.0, pad=-60)\n",
    "fig.tight_layout()\n",
    "plt.savefig('./graphs/earth_radius_stats.jpg', bbox_inches=\"tight\", dpi=300)\n",
    "plt.show()"
   ]
  },
  {
   "cell_type": "markdown",
   "id": "e2a5e130",
   "metadata": {},
   "source": [
    "#### Stellar Age"
   ]
  },
  {
   "cell_type": "markdown",
   "id": "d984ff2a",
   "metadata": {},
   "source": [
    "The stellar ages of stars hosting known exoplanets"
   ]
  },
  {
   "cell_type": "code",
   "execution_count": 51,
   "id": "86bdf4b0",
   "metadata": {},
   "outputs": [
    {
     "data": {
      "image/png": "[encoded data removed]",
      "text/plain": [
       "<Figure size 432x288 with 1 Axes>"
      ]
     },
     "metadata": {
      "needs_background": "light"
     },
     "output_type": "display_data"
    }
   ],
   "source": [
    "# plot a histogram to visualise distribution\n",
    "plt.subplot()\n",
    "data = kep_df['st_age']\n",
    "plt.hist(data)\n",
    "plt.title('Stellar Age [Gyr]')\n",
    "\n",
    "\n",
    "plt.savefig('./graphs/stellar_age.jpg', bbox_inches=\"tight\", dpi=450)\n",
    "plt.show()"
   ]
  },
  {
   "cell_type": "code",
   "execution_count": 52,
   "id": "f0f299f3",
   "metadata": {},
   "outputs": [
    {
     "data": {
      "image/png": "[encoded data removed]",
      "text/plain": [
       "<Figure size 432x288 with 1 Axes>"
      ]
     },
     "metadata": {
      "needs_background": "light"
     },
     "output_type": "display_data"
    }
   ],
   "source": [
    "# scatter plot of stellar age and orbital period\n",
    "x = kep_df['st_age']\n",
    "y = kep_df['pl_orbper']\n",
    "\n",
    "plt.scatter(x, y)\n",
    "plt.title('Stellar Age v Orbital Period')\n",
    "plt.savefig('./graphs/stellar_age_orbper_scatter.jpg', bbox_inches=\"tight\", dpi=450)\n",
    "plt.show()"
   ]
  },
  {
   "cell_type": "code",
   "execution_count": 53,
   "id": "3177b92d",
   "metadata": {},
   "outputs": [
    {
     "data": {
      "image/png": "[encoded data removed]",
      "text/plain": [
       "<Figure size 432x288 with 1 Axes>"
      ]
     },
     "metadata": {
      "needs_background": "light"
     },
     "output_type": "display_data"
    }
   ],
   "source": [
    "# scatter plot of stellar age and temp\n",
    "x = kep_df['st_age']\n",
    "y = kep_df['pl_eqt']\n",
    "\n",
    "plt.scatter(x, y)\n",
    "plt.title('Stellar Age[Gyr] v EQTemp[K]')\n",
    "plt.savefig('./graphs/stellar_age_temp_scatter.jpg', bbox_inches=\"tight\", dpi=450)\n",
    "plt.show()"
   ]
  },
  {
   "cell_type": "code",
   "execution_count": 54,
   "id": "913b70df",
   "metadata": {},
   "outputs": [
    {
     "data": {
      "image/png": "[encoded data removed]",
      "text/plain": [
       "<Figure size 432x288 with 1 Axes>"
      ]
     },
     "metadata": {
      "needs_background": "light"
     },
     "output_type": "display_data"
    }
   ],
   "source": [
    "# scatter plot of stellar age and transit duration\n",
    "x = kep_df['st_age']\n",
    "y = kep_df['pl_trandur']\n",
    "\n",
    "plt.scatter(x, y)\n",
    "plt.title('Stellar Age[Gyr] v Transit [days]')\n",
    "plt.savefig('./graphs/stellar_age_transit_scatter.jpg', bbox_inches=\"tight\", dpi=450)\n",
    "plt.show()"
   ]
  },
  {
   "cell_type": "code",
   "execution_count": 55,
   "id": "37d6df79",
   "metadata": {},
   "outputs": [
    {
     "data": {
      "image/png": "[encoded data removed]",
      "text/plain": [
       "<Figure size 432x288 with 1 Axes>"
      ]
     },
     "metadata": {
      "needs_background": "light"
     },
     "output_type": "display_data"
    }
   ],
   "source": [
    "# scatter plot of stellar age and transit duration\n",
    "x = kep_df['st_age']\n",
    "y = kep_df['pl_bmasse']\n",
    "\n",
    "plt.scatter(x, y)\n",
    "plt.title('Stellar Age[Gyr] v Earth Mass')\n",
    "plt.savefig('./graphs/stellar_age_earthMass_scatter.jpg', bbox_inches=\"tight\", dpi=450)\n",
    "plt.show()"
   ]
  },
  {
   "cell_type": "code",
   "execution_count": 56,
   "id": "09335315",
   "metadata": {},
   "outputs": [
    {
     "data": {
      "text/html": [
       "<div>\n",
       "<style scoped>\n",
       "    .dataframe tbody tr th:only-of-type {\n",
       "        vertical-align: middle;\n",
       "    }\n",
       "\n",
       "    .dataframe tbody tr th {\n",
       "        vertical-align: top;\n",
       "    }\n",
       "\n",
       "    .dataframe thead th {\n",
       "        text-align: right;\n",
       "    }\n",
       "</style>\n",
       "<table border=\"1\" class=\"dataframe\">\n",
       "  <thead>\n",
       "    <tr style=\"text-align: right;\">\n",
       "      <th></th>\n",
       "      <th>Stat</th>\n",
       "      <th>Value</th>\n",
       "    </tr>\n",
       "  </thead>\n",
       "  <tbody>\n",
       "    <tr>\n",
       "      <th>0</th>\n",
       "      <td>count</td>\n",
       "      <td>2568.000000</td>\n",
       "    </tr>\n",
       "    <tr>\n",
       "      <th>1</th>\n",
       "      <td>mean</td>\n",
       "      <td>4.233917</td>\n",
       "    </tr>\n",
       "    <tr>\n",
       "      <th>2</th>\n",
       "      <td>std</td>\n",
       "      <td>2.932827</td>\n",
       "    </tr>\n",
       "    <tr>\n",
       "      <th>3</th>\n",
       "      <td>min</td>\n",
       "      <td>0.000000</td>\n",
       "    </tr>\n",
       "    <tr>\n",
       "      <th>4</th>\n",
       "      <td>25%</td>\n",
       "      <td>2.690000</td>\n",
       "    </tr>\n",
       "    <tr>\n",
       "      <th>5</th>\n",
       "      <td>50%</td>\n",
       "      <td>3.890000</td>\n",
       "    </tr>\n",
       "    <tr>\n",
       "      <th>6</th>\n",
       "      <td>75%</td>\n",
       "      <td>4.680000</td>\n",
       "    </tr>\n",
       "    <tr>\n",
       "      <th>7</th>\n",
       "      <td>max</td>\n",
       "      <td>14.000000</td>\n",
       "    </tr>\n",
       "  </tbody>\n",
       "</table>\n",
       "</div>"
      ],
      "text/plain": [
       "    Stat        Value\n",
       "0  count  2568.000000\n",
       "1   mean     4.233917\n",
       "2    std     2.932827\n",
       "3    min     0.000000\n",
       "4    25%     2.690000\n",
       "5    50%     3.890000\n",
       "6    75%     4.680000\n",
       "7    max    14.000000"
      ]
     },
     "execution_count": 56,
     "metadata": {},
     "output_type": "execute_result"
    }
   ],
   "source": [
    "stellar_age_stats = kep_df['st_age'].describe()\n",
    "stellar_age_stats = stellar_age_stats.to_frame()\n",
    "stellar_age_stats.reset_index(inplace=True)\n",
    "stellar_age_stats.rename(columns={'index':'Stat', 'st_age':'Value'}, inplace=True)\n",
    "stellar_age_stats"
   ]
  },
  {
   "cell_type": "code",
   "execution_count": 57,
   "id": "5d252555",
   "metadata": {},
   "outputs": [
    {
     "data": {
      "image/png": "[encoded data removed]",
      "text/plain": [
       "<Figure size 432x288 with 1 Axes>"
      ]
     },
     "metadata": {
      "needs_background": "light"
     },
     "output_type": "display_data"
    }
   ],
   "source": [
    "# plot a table \n",
    "fig, ax = plt.subplots()\n",
    "\n",
    "# hide the axis\n",
    "fig.patch.set_visible(False)\n",
    "ax.axis('off')\n",
    "ax.axis('tight')\n",
    "\n",
    "#create the table\n",
    "table = ax.table(cellText=stellar_age_stats.values, colLabels = stellar_age_stats.columns, loc='center')\n",
    "\n",
    "# disply and save the table\n",
    "name = \"Stellar Age[Gyr] Stats\"\n",
    "plt.title(name, y=1.0, pad=-60)\n",
    "fig.tight_layout()\n",
    "plt.savefig('./graphs/stellar_age_stats.jpg', bbox_inches=\"tight\", dpi=300)\n",
    "plt.show()"
   ]
  },
  {
   "cell_type": "markdown",
   "id": "80a717dc",
   "metadata": {},
   "source": [
    "#### Stellar Mass"
   ]
  },
  {
   "cell_type": "markdown",
   "id": "f03bc05c",
   "metadata": {},
   "source": [
    "The stellar mass (also known as Solar Mass) of stars hosting known exoplanets\n"
   ]
  },
  {
   "cell_type": "code",
   "execution_count": 59,
   "id": "75c31511",
   "metadata": {},
   "outputs": [
    {
     "data": {
      "image/png": "[encoded data removed]",
      "text/plain": [
       "<Figure size 432x288 with 1 Axes>"
      ]
     },
     "metadata": {
      "needs_background": "light"
     },
     "output_type": "display_data"
    }
   ],
   "source": [
    "# plot a histogram to visualise distribution\n",
    "plt.subplot()\n",
    "data = kep_df['st_mass']\n",
    "plt.hist(data)\n",
    "plt.title('Stellar Mass [Solar Mass]')\n",
    "\n",
    "\n",
    "plt.savefig('./graphs/stellar_mass.jpg', bbox_inches=\"tight\", dpi=450)\n",
    "plt.show()"
   ]
  },
  {
   "cell_type": "code",
   "execution_count": 60,
   "id": "41c3983c",
   "metadata": {},
   "outputs": [
    {
     "data": {
      "image/png": "[encoded data removed]",
      "text/plain": [
       "<Figure size 432x288 with 1 Axes>"
      ]
     },
     "metadata": {
      "needs_background": "light"
     },
     "output_type": "display_data"
    }
   ],
   "source": [
    "# scatter plot of stellar age and stellar mass\n",
    "x = kep_df['st_age']\n",
    "y = kep_df['st_mass']\n",
    "\n",
    "plt.scatter(x, y)\n",
    "plt.title('Stellar Age[Gyr] v Stellar Mass [Solar Mass]')\n",
    "plt.savefig('./graphs/stellar_age_stealler_mass_scatter.jpg', bbox_inches=\"tight\", dpi=450)\n",
    "plt.show()"
   ]
  },
  {
   "cell_type": "code",
   "execution_count": 63,
   "id": "34e1d91f",
   "metadata": {},
   "outputs": [
    {
     "data": {
      "image/png": "[encoded data removed]",
      "text/plain": [
       "<Figure size 432x288 with 1 Axes>"
      ]
     },
     "metadata": {
      "needs_background": "light"
     },
     "output_type": "display_data"
    }
   ],
   "source": [
    "# scatter plot of planet mass and stellar mass\n",
    "x = kep_df['st_mass']\n",
    "y = kep_df['pl_bmasse']\n",
    "\n",
    "plt.scatter(x, y)\n",
    "plt.title('Stellar Mass [Solar Mass] v Planet Mass')\n",
    "plt.savefig('./graphs/stealler_mass__planet_mass_scatter.jpg', bbox_inches=\"tight\", dpi=450)\n",
    "plt.show()"
   ]
  },
  {
   "cell_type": "code",
   "execution_count": 64,
   "id": "bfe6bbb8",
   "metadata": {},
   "outputs": [
    {
     "data": {
      "text/html": [
       "<div>\n",
       "<style scoped>\n",
       "    .dataframe tbody tr th:only-of-type {\n",
       "        vertical-align: middle;\n",
       "    }\n",
       "\n",
       "    .dataframe tbody tr th {\n",
       "        vertical-align: top;\n",
       "    }\n",
       "\n",
       "    .dataframe thead th {\n",
       "        text-align: right;\n",
       "    }\n",
       "</style>\n",
       "<table border=\"1\" class=\"dataframe\">\n",
       "  <thead>\n",
       "    <tr style=\"text-align: right;\">\n",
       "      <th></th>\n",
       "      <th>Stat</th>\n",
       "      <th>Value</th>\n",
       "    </tr>\n",
       "  </thead>\n",
       "  <tbody>\n",
       "    <tr>\n",
       "      <th>0</th>\n",
       "      <td>count</td>\n",
       "      <td>2673.000000</td>\n",
       "    </tr>\n",
       "    <tr>\n",
       "      <th>1</th>\n",
       "      <td>mean</td>\n",
       "      <td>0.951104</td>\n",
       "    </tr>\n",
       "    <tr>\n",
       "      <th>2</th>\n",
       "      <td>std</td>\n",
       "      <td>0.196974</td>\n",
       "    </tr>\n",
       "    <tr>\n",
       "      <th>3</th>\n",
       "      <td>min</td>\n",
       "      <td>0.130000</td>\n",
       "    </tr>\n",
       "    <tr>\n",
       "      <th>4</th>\n",
       "      <td>25%</td>\n",
       "      <td>0.840000</td>\n",
       "    </tr>\n",
       "    <tr>\n",
       "      <th>5</th>\n",
       "      <td>50%</td>\n",
       "      <td>0.960000</td>\n",
       "    </tr>\n",
       "    <tr>\n",
       "      <th>6</th>\n",
       "      <td>75%</td>\n",
       "      <td>1.070000</td>\n",
       "    </tr>\n",
       "    <tr>\n",
       "      <th>7</th>\n",
       "      <td>max</td>\n",
       "      <td>1.720000</td>\n",
       "    </tr>\n",
       "  </tbody>\n",
       "</table>\n",
       "</div>"
      ],
      "text/plain": [
       "    Stat        Value\n",
       "0  count  2673.000000\n",
       "1   mean     0.951104\n",
       "2    std     0.196974\n",
       "3    min     0.130000\n",
       "4    25%     0.840000\n",
       "5    50%     0.960000\n",
       "6    75%     1.070000\n",
       "7    max     1.720000"
      ]
     },
     "execution_count": 64,
     "metadata": {},
     "output_type": "execute_result"
    }
   ],
   "source": [
    "stellar_mass_stats = kep_df['st_mass'].describe()\n",
    "stellar_mass_stats = stellar_mass_stats.to_frame()\n",
    "stellar_mass_stats.reset_index(inplace=True)\n",
    "stellar_mass_stats.rename(columns={'index':'Stat', 'st_mass':'Value'}, inplace=True)\n",
    "stellar_mass_stats"
   ]
  },
  {
   "cell_type": "code",
   "execution_count": 65,
   "id": "a7eafb93",
   "metadata": {},
   "outputs": [
    {
     "data": {
      "image/png": "[encoded data removed]",
      "text/plain": [
       "<Figure size 432x288 with 1 Axes>"
      ]
     },
     "metadata": {
      "needs_background": "light"
     },
     "output_type": "display_data"
    }
   ],
   "source": [
    "# plot a table \n",
    "fig, ax = plt.subplots()\n",
    "\n",
    "# hide the axis\n",
    "fig.patch.set_visible(False)\n",
    "ax.axis('off')\n",
    "ax.axis('tight')\n",
    "\n",
    "#create the table\n",
    "table = ax.table(cellText=stellar_mass_stats.values, colLabels = stellar_mass_stats.columns, loc='center')\n",
    "\n",
    "# disply and save the table\n",
    "name = \"Stellar Mass [Solar Mass] Stats\"\n",
    "plt.title(name, y=1.0, pad=-60)\n",
    "fig.tight_layout()\n",
    "plt.savefig('./graphs/stellar_mass_stats.jpg', bbox_inches=\"tight\", dpi=300)\n",
    "plt.show()"
   ]
  },
  {
   "cell_type": "markdown",
   "id": "b91c099d",
   "metadata": {},
   "source": [
    "#### System Distance"
   ]
  },
  {
   "cell_type": "markdown",
   "id": "964fea98",
   "metadata": {},
   "source": [
    "The Parsec distance to the host of the exoplanet"
   ]
  },
  {
   "cell_type": "code",
   "execution_count": 66,
   "id": "ccf884e7",
   "metadata": {},
   "outputs": [
    {
     "data": {
      "image/png": "[encoded data removed]",
      "text/plain": [
       "<Figure size 432x288 with 1 Axes>"
      ]
     },
     "metadata": {
      "needs_background": "light"
     },
     "output_type": "display_data"
    }
   ],
   "source": [
    "# plot a histogram to visualise distribution\n",
    "plt.subplot()\n",
    "data = kep_df['sy_dist']\n",
    "plt.hist(data)\n",
    "plt.title('System Distance [Parsecs]')\n",
    "\n",
    "\n",
    "plt.savefig('./graphs/system_distance.jpg', bbox_inches=\"tight\", dpi=450)\n",
    "plt.show()"
   ]
  },
  {
   "cell_type": "code",
   "execution_count": 67,
   "id": "b60c38b5",
   "metadata": {},
   "outputs": [
    {
     "data": {
      "image/png": "[encoded data removed]",
      "text/plain": [
       "<Figure size 432x288 with 1 Axes>"
      ]
     },
     "metadata": {
      "needs_background": "light"
     },
     "output_type": "display_data"
    }
   ],
   "source": [
    "# scatter plot of system distance and stellar mass\n",
    "x = kep_df['sy_dist']\n",
    "y = kep_df['st_mass']\n",
    "\n",
    "plt.scatter(x, y)\n",
    "plt.title('System Distance[Parsec] v Stellar Mass [Solar Mass]')\n",
    "plt.savefig('./graphs/system_distance_steller_mass_scatter.jpg', bbox_inches=\"tight\", dpi=450)\n",
    "plt.show()"
   ]
  },
  {
   "cell_type": "code",
   "execution_count": 68,
   "id": "ad35a142",
   "metadata": {},
   "outputs": [
    {
     "data": {
      "image/png": "[encoded data removed]",
      "text/plain": [
       "<Figure size 432x288 with 1 Axes>"
      ]
     },
     "metadata": {
      "needs_background": "light"
     },
     "output_type": "display_data"
    }
   ],
   "source": [
    "# scatter plot of system distance and stellar age\n",
    "x = kep_df['sy_dist']\n",
    "y = kep_df['st_age']\n",
    "\n",
    "plt.scatter(x, y)\n",
    "plt.title('System Distance[Parsec] v Stellar Age [Gyr]')\n",
    "plt.savefig('./graphs/system_distance_steller_age_scatter.jpg', bbox_inches=\"tight\", dpi=450)\n",
    "plt.show()"
   ]
  },
  {
   "cell_type": "code",
   "execution_count": 69,
   "id": "8d8086ed",
   "metadata": {},
   "outputs": [
    {
     "data": {
      "text/html": [
       "<div>\n",
       "<style scoped>\n",
       "    .dataframe tbody tr th:only-of-type {\n",
       "        vertical-align: middle;\n",
       "    }\n",
       "\n",
       "    .dataframe tbody tr th {\n",
       "        vertical-align: top;\n",
       "    }\n",
       "\n",
       "    .dataframe thead th {\n",
       "        text-align: right;\n",
       "    }\n",
       "</style>\n",
       "<table border=\"1\" class=\"dataframe\">\n",
       "  <thead>\n",
       "    <tr style=\"text-align: right;\">\n",
       "      <th></th>\n",
       "      <th>Stat</th>\n",
       "      <th>Value</th>\n",
       "    </tr>\n",
       "  </thead>\n",
       "  <tbody>\n",
       "    <tr>\n",
       "      <th>0</th>\n",
       "      <td>count</td>\n",
       "      <td>2663.000000</td>\n",
       "    </tr>\n",
       "    <tr>\n",
       "      <th>1</th>\n",
       "      <td>mean</td>\n",
       "      <td>818.424865</td>\n",
       "    </tr>\n",
       "    <tr>\n",
       "      <th>2</th>\n",
       "      <td>std</td>\n",
       "      <td>449.332459</td>\n",
       "    </tr>\n",
       "    <tr>\n",
       "      <th>3</th>\n",
       "      <td>min</td>\n",
       "      <td>36.439600</td>\n",
       "    </tr>\n",
       "    <tr>\n",
       "      <th>4</th>\n",
       "      <td>25%</td>\n",
       "      <td>486.360000</td>\n",
       "    </tr>\n",
       "    <tr>\n",
       "      <th>5</th>\n",
       "      <td>50%</td>\n",
       "      <td>769.096000</td>\n",
       "    </tr>\n",
       "    <tr>\n",
       "      <th>6</th>\n",
       "      <td>75%</td>\n",
       "      <td>1047.030000</td>\n",
       "    </tr>\n",
       "    <tr>\n",
       "      <th>7</th>\n",
       "      <td>max</td>\n",
       "      <td>3460.510000</td>\n",
       "    </tr>\n",
       "  </tbody>\n",
       "</table>\n",
       "</div>"
      ],
      "text/plain": [
       "    Stat        Value\n",
       "0  count  2663.000000\n",
       "1   mean   818.424865\n",
       "2    std   449.332459\n",
       "3    min    36.439600\n",
       "4    25%   486.360000\n",
       "5    50%   769.096000\n",
       "6    75%  1047.030000\n",
       "7    max  3460.510000"
      ]
     },
     "execution_count": 69,
     "metadata": {},
     "output_type": "execute_result"
    }
   ],
   "source": [
    "stellar_distance_stats = kep_df['sy_dist'].describe()\n",
    "stellar_distance_stats = stellar_distance_stats.to_frame()\n",
    "stellar_distance_stats.reset_index(inplace=True)\n",
    "stellar_distance_stats.rename(columns={'index':'Stat', 'sy_dist':'Value'}, inplace=True)\n",
    "stellar_distance_stats"
   ]
  },
  {
   "cell_type": "code",
   "execution_count": 70,
   "id": "93d8a135",
   "metadata": {},
   "outputs": [
    {
     "data": {
      "image/png": "[encoded data removed]",
      "text/plain": [
       "<Figure size 432x288 with 1 Axes>"
      ]
     },
     "metadata": {
      "needs_background": "light"
     },
     "output_type": "display_data"
    }
   ],
   "source": [
    "# plot a table \n",
    "fig, ax = plt.subplots()\n",
    "\n",
    "# hide the axis\n",
    "fig.patch.set_visible(False)\n",
    "ax.axis('off')\n",
    "ax.axis('tight')\n",
    "\n",
    "#create the table\n",
    "table = ax.table(cellText=stellar_distance_stats.values, colLabels = stellar_distance_stats.columns, loc='center')\n",
    "\n",
    "# disply and save the table\n",
    "name = \"System Distance [Parsecs] Stats\"\n",
    "plt.title(name, y=1.0, pad=-60)\n",
    "fig.tight_layout()\n",
    "plt.savefig('./graphs/system_distance_stats.jpg', bbox_inches=\"tight\", dpi=300)\n",
    "plt.show()"
   ]
  },
  {
   "cell_type": "code",
   "execution_count": null,
   "id": "db173e72",
   "metadata": {},
   "outputs": [],
   "source": []
  }
 ],
 "metadata": {
  "kernelspec": {
   "display_name": "Python 3",
   "language": "python",
   "name": "python3"
  },
  "language_info": {
   "codemirror_mode": {
    "name": "ipython",
    "version": 3
   },
   "file_extension": ".py",
   "mimetype": "text/x-python",
   "name": "python",
   "nbconvert_exporter": "python",
   "pygments_lexer": "ipython3",
   "version": "3.8.8"
  }
 },
 "nbformat": 4,
 "nbformat_minor": 5
}
