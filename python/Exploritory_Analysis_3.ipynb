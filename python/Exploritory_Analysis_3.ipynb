{
 "cells": [
  {
   "cell_type": "markdown",
   "id": "b9fb0a2f",
   "metadata": {},
   "source": [
    "# Exploritory Analysis ⅠⅠⅠ"
   ]
  },
  {
   "cell_type": "markdown",
   "id": "e52a4b64",
   "metadata": {},
   "source": [
    "Exploritory Analysis of the Datasets to be used for <br>\n",
    "Machine Learning Predictions of Exoplanet candidates <br>\n",
    "\n",
    "The analyis will look briefly at:\n",
    "- The Coandidates datset being used.\n",
    "- The main features of the dataset\n",
    "- If any of the features will be needed for the Classification Machine Learning"
   ]
  },
  {
   "cell_type": "code",
   "execution_count": 1,
   "id": "dad083d6",
   "metadata": {},
   "outputs": [],
   "source": [
    "#imports\n",
    "import pandas as pd\n",
    "import numpy as np\n",
    "import lightkurve as lk\n",
    "import matplotlib.pyplot as plt\n",
    "import seaborn as sn"
   ]
  },
  {
   "cell_type": "code",
   "execution_count": 2,
   "id": "e1883938",
   "metadata": {},
   "outputs": [
    {
     "data": {
      "text/html": [
       "<div>\n",
       "<style scoped>\n",
       "    .dataframe tbody tr th:only-of-type {\n",
       "        vertical-align: middle;\n",
       "    }\n",
       "\n",
       "    .dataframe tbody tr th {\n",
       "        vertical-align: top;\n",
       "    }\n",
       "\n",
       "    .dataframe thead th {\n",
       "        text-align: right;\n",
       "    }\n",
       "</style>\n",
       "<table border=\"1\" class=\"dataframe\">\n",
       "  <thead>\n",
       "    <tr style=\"text-align: right;\">\n",
       "      <th></th>\n",
       "      <th>kepid</th>\n",
       "      <th>kepoi_name</th>\n",
       "      <th>kepler_name</th>\n",
       "      <th>koi_disposition</th>\n",
       "      <th>koi_pdisposition</th>\n",
       "      <th>koi_score</th>\n",
       "      <th>koi_fpflag_nt</th>\n",
       "      <th>koi_fpflag_ss</th>\n",
       "      <th>koi_fpflag_co</th>\n",
       "      <th>koi_fpflag_ec</th>\n",
       "      <th>...</th>\n",
       "      <th>koi_slogg</th>\n",
       "      <th>koi_slogg_err1</th>\n",
       "      <th>koi_slogg_err2</th>\n",
       "      <th>koi_srad</th>\n",
       "      <th>koi_srad_err1</th>\n",
       "      <th>koi_srad_err2</th>\n",
       "      <th>ra_str</th>\n",
       "      <th>dec_str</th>\n",
       "      <th>koi_kepmag</th>\n",
       "      <th>koi_kepmag_err</th>\n",
       "    </tr>\n",
       "  </thead>\n",
       "  <tbody>\n",
       "    <tr>\n",
       "      <th>0</th>\n",
       "      <td>10797460</td>\n",
       "      <td>K00752.01</td>\n",
       "      <td>Kepler-227 b</td>\n",
       "      <td>CONFIRMED</td>\n",
       "      <td>CANDIDATE</td>\n",
       "      <td>1.000</td>\n",
       "      <td>0</td>\n",
       "      <td>0</td>\n",
       "      <td>0</td>\n",
       "      <td>0</td>\n",
       "      <td>...</td>\n",
       "      <td>4.467</td>\n",
       "      <td>0.064</td>\n",
       "      <td>-0.096</td>\n",
       "      <td>0.927</td>\n",
       "      <td>0.105</td>\n",
       "      <td>-0.061</td>\n",
       "      <td>19h27m44.22s</td>\n",
       "      <td>+48d08m29.9s</td>\n",
       "      <td>15.347</td>\n",
       "      <td>NaN</td>\n",
       "    </tr>\n",
       "    <tr>\n",
       "      <th>1</th>\n",
       "      <td>10797460</td>\n",
       "      <td>K00752.02</td>\n",
       "      <td>Kepler-227 c</td>\n",
       "      <td>CONFIRMED</td>\n",
       "      <td>CANDIDATE</td>\n",
       "      <td>0.969</td>\n",
       "      <td>0</td>\n",
       "      <td>0</td>\n",
       "      <td>0</td>\n",
       "      <td>0</td>\n",
       "      <td>...</td>\n",
       "      <td>4.467</td>\n",
       "      <td>0.064</td>\n",
       "      <td>-0.096</td>\n",
       "      <td>0.927</td>\n",
       "      <td>0.105</td>\n",
       "      <td>-0.061</td>\n",
       "      <td>19h27m44.22s</td>\n",
       "      <td>+48d08m29.9s</td>\n",
       "      <td>15.347</td>\n",
       "      <td>NaN</td>\n",
       "    </tr>\n",
       "    <tr>\n",
       "      <th>2</th>\n",
       "      <td>10811496</td>\n",
       "      <td>K00753.01</td>\n",
       "      <td>NaN</td>\n",
       "      <td>CANDIDATE</td>\n",
       "      <td>CANDIDATE</td>\n",
       "      <td>0.000</td>\n",
       "      <td>0</td>\n",
       "      <td>0</td>\n",
       "      <td>0</td>\n",
       "      <td>0</td>\n",
       "      <td>...</td>\n",
       "      <td>4.544</td>\n",
       "      <td>0.044</td>\n",
       "      <td>-0.176</td>\n",
       "      <td>0.868</td>\n",
       "      <td>0.233</td>\n",
       "      <td>-0.078</td>\n",
       "      <td>19h48m01.16s</td>\n",
       "      <td>+48d08m02.9s</td>\n",
       "      <td>15.436</td>\n",
       "      <td>NaN</td>\n",
       "    </tr>\n",
       "    <tr>\n",
       "      <th>3</th>\n",
       "      <td>10848459</td>\n",
       "      <td>K00754.01</td>\n",
       "      <td>NaN</td>\n",
       "      <td>FALSE POSITIVE</td>\n",
       "      <td>FALSE POSITIVE</td>\n",
       "      <td>0.000</td>\n",
       "      <td>0</td>\n",
       "      <td>1</td>\n",
       "      <td>0</td>\n",
       "      <td>0</td>\n",
       "      <td>...</td>\n",
       "      <td>4.564</td>\n",
       "      <td>0.053</td>\n",
       "      <td>-0.168</td>\n",
       "      <td>0.791</td>\n",
       "      <td>0.201</td>\n",
       "      <td>-0.067</td>\n",
       "      <td>19h02m08.31s</td>\n",
       "      <td>+48d17m06.8s</td>\n",
       "      <td>15.597</td>\n",
       "      <td>NaN</td>\n",
       "    </tr>\n",
       "    <tr>\n",
       "      <th>4</th>\n",
       "      <td>10854555</td>\n",
       "      <td>K00755.01</td>\n",
       "      <td>Kepler-664 b</td>\n",
       "      <td>CONFIRMED</td>\n",
       "      <td>CANDIDATE</td>\n",
       "      <td>1.000</td>\n",
       "      <td>0</td>\n",
       "      <td>0</td>\n",
       "      <td>0</td>\n",
       "      <td>0</td>\n",
       "      <td>...</td>\n",
       "      <td>4.438</td>\n",
       "      <td>0.070</td>\n",
       "      <td>-0.210</td>\n",
       "      <td>1.046</td>\n",
       "      <td>0.334</td>\n",
       "      <td>-0.133</td>\n",
       "      <td>19h15m01.17s</td>\n",
       "      <td>+48d13m34.3s</td>\n",
       "      <td>15.509</td>\n",
       "      <td>NaN</td>\n",
       "    </tr>\n",
       "  </tbody>\n",
       "</table>\n",
       "<p>5 rows × 50 columns</p>\n",
       "</div>"
      ],
      "text/plain": [
       "      kepid kepoi_name   kepler_name koi_disposition koi_pdisposition  \\\n",
       "0  10797460  K00752.01  Kepler-227 b       CONFIRMED        CANDIDATE   \n",
       "1  10797460  K00752.02  Kepler-227 c       CONFIRMED        CANDIDATE   \n",
       "2  10811496  K00753.01           NaN       CANDIDATE        CANDIDATE   \n",
       "3  10848459  K00754.01           NaN  FALSE POSITIVE   FALSE POSITIVE   \n",
       "4  10854555  K00755.01  Kepler-664 b       CONFIRMED        CANDIDATE   \n",
       "\n",
       "   koi_score  koi_fpflag_nt  koi_fpflag_ss  koi_fpflag_co  koi_fpflag_ec  ...  \\\n",
       "0      1.000              0              0              0              0  ...   \n",
       "1      0.969              0              0              0              0  ...   \n",
       "2      0.000              0              0              0              0  ...   \n",
       "3      0.000              0              1              0              0  ...   \n",
       "4      1.000              0              0              0              0  ...   \n",
       "\n",
       "   koi_slogg  koi_slogg_err1  koi_slogg_err2  koi_srad  koi_srad_err1  \\\n",
       "0      4.467           0.064          -0.096     0.927          0.105   \n",
       "1      4.467           0.064          -0.096     0.927          0.105   \n",
       "2      4.544           0.044          -0.176     0.868          0.233   \n",
       "3      4.564           0.053          -0.168     0.791          0.201   \n",
       "4      4.438           0.070          -0.210     1.046          0.334   \n",
       "\n",
       "   koi_srad_err2        ra_str       dec_str  koi_kepmag  koi_kepmag_err  \n",
       "0         -0.061  19h27m44.22s  +48d08m29.9s      15.347             NaN  \n",
       "1         -0.061  19h27m44.22s  +48d08m29.9s      15.347             NaN  \n",
       "2         -0.078  19h48m01.16s  +48d08m02.9s      15.436             NaN  \n",
       "3         -0.067  19h02m08.31s  +48d17m06.8s      15.597             NaN  \n",
       "4         -0.133  19h15m01.17s  +48d13m34.3s      15.509             NaN  \n",
       "\n",
       "[5 rows x 50 columns]"
      ]
     },
     "execution_count": 2,
     "metadata": {},
     "output_type": "execute_result"
    }
   ],
   "source": [
    "# file import and dataframe creation\n",
    "file = ('https://exoplanetarchive.ipac.caltech.edu/cgi-bin/nstedAPI/nph-nstedAPI?table=cumulative')\n",
    "koi_df = pd.read_csv(file, low_memory=False)\n",
    "koi_df.head()"
   ]
  },
  {
   "cell_type": "code",
   "execution_count": 3,
   "id": "b8bd9a2a",
   "metadata": {},
   "outputs": [
    {
     "data": {
      "text/plain": [
       "(9564, 50)"
      ]
     },
     "execution_count": 3,
     "metadata": {},
     "output_type": "execute_result"
    }
   ],
   "source": [
    "# the shappe and size of the imported dataset\n",
    "koi_df.shape"
   ]
  },
  {
   "cell_type": "markdown",
   "id": "f9a734c2",
   "metadata": {},
   "source": [
    "These columns of interest can be used to check for possible data inbalance\n",
    "for the machine learning model as well as basic statistics in reagards to\n",
    "what will be outputted for the model classifications\n",
    "<br>\n",
    "<br>\n",
    "__kepid__ : int<br>\n",
    "arget identification number, as listed in the Kepler Input Catalog (KIC). <br>\n",
    "The KIC was derived from a ground-based imaging survey of the Kepler field <br>\n",
    "conducted prior to launch. <br>\n",
    "<br>\n",
    "<br>\n",
    "__kepler_name__ : char<br>\n",
    "Kepler number name in the form \"Kepler-N,\" plus a lower-case letter,  <br>\n",
    "<br>\n",
    "<br>\n",
    "__koi_score__ : float <br>\n",
    "A value between 0 and 1 that indicates the confidence in the KOI disposition.<br>\n",
    "For CANDIDATEs, a higher value indicates more confidence in its disposition, <br>\n",
    "while for FALSE POSITIVEs, a higher value indicates less confidence in that disposition.<br>\n",
    "<br>\n",
    "<br>\n",
    "__koi_disposition__ : Char<br>\n",
    "The category of this KOI from the Exoplanet Archive. Current values are CANDIDATE, <br>\n",
    "FALSE POSITIVE, NOT DISPOSITIONED or CONFIRMED. All KOIs marked as CONFIRMED are also <br>\n",
    "listed in the Exoplanet Archive Confirmed Planet table <br>\n",
    "<br>\n",
    "<br>\n",
    "__koi_period__ : double <br>\n",
    "The interval between consecutive planetary transits (days) <br>\n",
    "<br>\n",
    "<br>"
   ]
  },
  {
   "cell_type": "code",
   "execution_count": 4,
   "id": "22e37399",
   "metadata": {},
   "outputs": [
    {
     "data": {
      "text/html": [
       "<div>\n",
       "<style scoped>\n",
       "    .dataframe tbody tr th:only-of-type {\n",
       "        vertical-align: middle;\n",
       "    }\n",
       "\n",
       "    .dataframe tbody tr th {\n",
       "        vertical-align: top;\n",
       "    }\n",
       "\n",
       "    .dataframe thead th {\n",
       "        text-align: right;\n",
       "    }\n",
       "</style>\n",
       "<table border=\"1\" class=\"dataframe\">\n",
       "  <thead>\n",
       "    <tr style=\"text-align: right;\">\n",
       "      <th></th>\n",
       "      <th>koi_disposition</th>\n",
       "      <th>count</th>\n",
       "      <th>%</th>\n",
       "    </tr>\n",
       "  </thead>\n",
       "  <tbody>\n",
       "    <tr>\n",
       "      <th>0</th>\n",
       "      <td>FALSE POSITIVE</td>\n",
       "      <td>4840</td>\n",
       "      <td>64.498934</td>\n",
       "    </tr>\n",
       "    <tr>\n",
       "      <th>1</th>\n",
       "      <td>CONFIRMED</td>\n",
       "      <td>2664</td>\n",
       "      <td>35.501066</td>\n",
       "    </tr>\n",
       "  </tbody>\n",
       "</table>\n",
       "</div>"
      ],
      "text/plain": [
       "  koi_disposition  count          %\n",
       "0  FALSE POSITIVE   4840  64.498934\n",
       "1       CONFIRMED   2664  35.501066"
      ]
     },
     "execution_count": 4,
     "metadata": {},
     "output_type": "execute_result"
    }
   ],
   "source": [
    "# apply a count of confirmed planets and false positives\n",
    "confirmed_df = koi_df.copy()\n",
    "confirmed_df = confirmed_df[confirmed_df['koi_disposition'].str.contains('CONFIRMED', na=False) |\n",
    "                          confirmed_df['koi_disposition'].str.contains('FALSE POSITIVE')]\n",
    "confirmed_df = confirmed_df.groupby('koi_disposition')['kepid'].count()\n",
    "confirmed_df = confirmed_df.to_frame()\n",
    "confirmed_df.reset_index(inplace=True)\n",
    "confirmed_df.rename(columns={'kepid':'count'}, inplace=True)\n",
    "confirmed_df['%'] = (confirmed_df['count'] / confirmed_df['count'].sum())*100\n",
    "confirmed_df = confirmed_df.sort_values(by='%', ascending=False)\n",
    "confirmed_df.reset_index(drop= True, inplace=True)\n",
    "confirmed_df"
   ]
  },
  {
   "cell_type": "code",
   "execution_count": 5,
   "id": "59f3517b",
   "metadata": {},
   "outputs": [
    {
     "data": {
      "image/png": "[encoded data removed]",
      "text/plain": [
       "<Figure size 432x288 with 1 Axes>"
      ]
     },
     "metadata": {
      "needs_background": "light"
     },
     "output_type": "display_data"
    }
   ],
   "source": [
    "# plot a table\n",
    "fig, ax = plt.subplots()\n",
    "\n",
    "# hide the axis\n",
    "fig.patch.set_visible(False)\n",
    "ax.axis('off')\n",
    "ax.axis('tight')\n",
    "\n",
    "#create the table\n",
    "table = ax.table(cellText=confirmed_df.values, colLabels = confirmed_df.columns, loc='center')\n",
    "\n",
    "# disply and save the table\n",
    "name = \"Candidate Disposition %\"\n",
    "plt.title(name, y=1.0, pad=-80)\n",
    "fig.tight_layout()\n",
    "plt.savefig('./graphs/candidate_disposition_percent.jpg', bbox_inches=\"tight\", dpi=300)\n",
    "plt.show()"
   ]
  },
  {
   "cell_type": "code",
   "execution_count": 6,
   "id": "eb2715a8",
   "metadata": {},
   "outputs": [
    {
     "data": {
      "image/png": "[encoded data removed]",
      "text/plain": [
       "<Figure size 432x288 with 1 Axes>"
      ]
     },
     "metadata": {
      "needs_background": "light"
     },
     "output_type": "display_data"
    }
   ],
   "source": [
    "# plot the distribution of confirmed planets koi score\n",
    "confirmed_exo_df = koi_df.copy()\n",
    "confirmed_exo_df = confirmed_exo_df[confirmed_exo_df['koi_disposition'].str.contains('CONFIRMED', na=False)]\n",
    "plt.subplot()\n",
    "plt.hist(confirmed_exo_df['koi_score'])\n",
    "plt.title('Koi score of confirmed exoplanets')\n",
    "\n",
    "\n",
    "plt.savefig('./graphs/confirmed_koi_score.jpg', bbox_inches=\"tight\", dpi=450)\n",
    "plt.show()"
   ]
  },
  {
   "cell_type": "code",
   "execution_count": 7,
   "id": "995fc710",
   "metadata": {},
   "outputs": [
    {
     "data": {
      "text/html": [
       "<div>\n",
       "<style scoped>\n",
       "    .dataframe tbody tr th:only-of-type {\n",
       "        vertical-align: middle;\n",
       "    }\n",
       "\n",
       "    .dataframe tbody tr th {\n",
       "        vertical-align: top;\n",
       "    }\n",
       "\n",
       "    .dataframe thead th {\n",
       "        text-align: right;\n",
       "    }\n",
       "</style>\n",
       "<table border=\"1\" class=\"dataframe\">\n",
       "  <thead>\n",
       "    <tr style=\"text-align: right;\">\n",
       "      <th></th>\n",
       "      <th>Stat</th>\n",
       "      <th>Value</th>\n",
       "    </tr>\n",
       "  </thead>\n",
       "  <tbody>\n",
       "    <tr>\n",
       "      <th>0</th>\n",
       "      <td>count</td>\n",
       "      <td>2650.000000</td>\n",
       "    </tr>\n",
       "    <tr>\n",
       "      <th>1</th>\n",
       "      <td>mean</td>\n",
       "      <td>0.964119</td>\n",
       "    </tr>\n",
       "    <tr>\n",
       "      <th>2</th>\n",
       "      <td>std</td>\n",
       "      <td>0.137348</td>\n",
       "    </tr>\n",
       "    <tr>\n",
       "      <th>3</th>\n",
       "      <td>min</td>\n",
       "      <td>0.000000</td>\n",
       "    </tr>\n",
       "    <tr>\n",
       "      <th>4</th>\n",
       "      <td>25%</td>\n",
       "      <td>0.992000</td>\n",
       "    </tr>\n",
       "    <tr>\n",
       "      <th>5</th>\n",
       "      <td>50%</td>\n",
       "      <td>1.000000</td>\n",
       "    </tr>\n",
       "    <tr>\n",
       "      <th>6</th>\n",
       "      <td>75%</td>\n",
       "      <td>1.000000</td>\n",
       "    </tr>\n",
       "    <tr>\n",
       "      <th>7</th>\n",
       "      <td>max</td>\n",
       "      <td>1.000000</td>\n",
       "    </tr>\n",
       "  </tbody>\n",
       "</table>\n",
       "</div>"
      ],
      "text/plain": [
       "    Stat        Value\n",
       "0  count  2650.000000\n",
       "1   mean     0.964119\n",
       "2    std     0.137348\n",
       "3    min     0.000000\n",
       "4    25%     0.992000\n",
       "5    50%     1.000000\n",
       "6    75%     1.000000\n",
       "7    max     1.000000"
      ]
     },
     "execution_count": 7,
     "metadata": {},
     "output_type": "execute_result"
    }
   ],
   "source": [
    "confirmed_exo_stats = confirmed_exo_df['koi_score'].describe()\n",
    "confirmed_exo_stats = confirmed_exo_stats.to_frame()\n",
    "confirmed_exo_stats.reset_index(inplace=True)\n",
    "confirmed_exo_stats.rename(columns={'index':'Stat', 'koi_score':'Value'}, inplace=True)\n",
    "confirmed_exo_stats"
   ]
  },
  {
   "cell_type": "code",
   "execution_count": 8,
   "id": "629634c5",
   "metadata": {},
   "outputs": [
    {
     "data": {
      "image/png": "[encoded data removed]",
      "text/plain": [
       "<Figure size 432x288 with 1 Axes>"
      ]
     },
     "metadata": {
      "needs_background": "light"
     },
     "output_type": "display_data"
    }
   ],
   "source": [
    "# plot a table \n",
    "fig, ax = plt.subplots()\n",
    "\n",
    "# hide the axis\n",
    "fig.patch.set_visible(False)\n",
    "ax.axis('off')\n",
    "ax.axis('tight')\n",
    "\n",
    "#create the table\n",
    "table = ax.table(cellText=confirmed_exo_stats.values, colLabels = confirmed_exo_stats.columns, loc='center')\n",
    "\n",
    "# disply and save the table\n",
    "name = \"Koi Score Stats (Confirmed)\"\n",
    "plt.title(name, y=1.0, pad=-60)\n",
    "fig.tight_layout()\n",
    "plt.savefig('./graphs/koi_score_confirmed_stats.jpg', bbox_inches=\"tight\", dpi=300)\n",
    "plt.show()"
   ]
  },
  {
   "cell_type": "code",
   "execution_count": 9,
   "id": "2238a210",
   "metadata": {},
   "outputs": [
    {
     "data": {
      "image/png": "[encoded data removed]",
      "text/plain": [
       "<Figure size 432x288 with 1 Axes>"
      ]
     },
     "metadata": {
      "needs_background": "light"
     },
     "output_type": "display_data"
    }
   ],
   "source": [
    "# plot the distribution of false positive planets koi score\n",
    "false_exo_df = koi_df.copy()\n",
    "false_exo_df = false_exo_df[false_exo_df['koi_disposition'].str.contains('FALSE POSITIVE', na=False)]\n",
    "plt.subplot()\n",
    "plt.hist(false_exo_df['koi_score'])\n",
    "plt.title('Koi score of false positives')\n",
    "\n",
    "\n",
    "plt.savefig('./graphs/false_koi_score.jpg', bbox_inches=\"tight\", dpi=450)\n",
    "plt.show()"
   ]
  },
  {
   "cell_type": "code",
   "execution_count": 10,
   "id": "479ecad7",
   "metadata": {},
   "outputs": [
    {
     "data": {
      "text/html": [
       "<div>\n",
       "<style scoped>\n",
       "    .dataframe tbody tr th:only-of-type {\n",
       "        vertical-align: middle;\n",
       "    }\n",
       "\n",
       "    .dataframe tbody tr th {\n",
       "        vertical-align: top;\n",
       "    }\n",
       "\n",
       "    .dataframe thead th {\n",
       "        text-align: right;\n",
       "    }\n",
       "</style>\n",
       "<table border=\"1\" class=\"dataframe\">\n",
       "  <thead>\n",
       "    <tr style=\"text-align: right;\">\n",
       "      <th></th>\n",
       "      <th>Stat</th>\n",
       "      <th>Value</th>\n",
       "    </tr>\n",
       "  </thead>\n",
       "  <tbody>\n",
       "    <tr>\n",
       "      <th>0</th>\n",
       "      <td>count</td>\n",
       "      <td>3946.000000</td>\n",
       "    </tr>\n",
       "    <tr>\n",
       "      <th>1</th>\n",
       "      <td>mean</td>\n",
       "      <td>0.038105</td>\n",
       "    </tr>\n",
       "    <tr>\n",
       "      <th>2</th>\n",
       "      <td>std</td>\n",
       "      <td>0.158799</td>\n",
       "    </tr>\n",
       "    <tr>\n",
       "      <th>3</th>\n",
       "      <td>min</td>\n",
       "      <td>0.000000</td>\n",
       "    </tr>\n",
       "    <tr>\n",
       "      <th>4</th>\n",
       "      <td>25%</td>\n",
       "      <td>0.000000</td>\n",
       "    </tr>\n",
       "    <tr>\n",
       "      <th>5</th>\n",
       "      <td>50%</td>\n",
       "      <td>0.000000</td>\n",
       "    </tr>\n",
       "    <tr>\n",
       "      <th>6</th>\n",
       "      <td>75%</td>\n",
       "      <td>0.000000</td>\n",
       "    </tr>\n",
       "    <tr>\n",
       "      <th>7</th>\n",
       "      <td>max</td>\n",
       "      <td>1.000000</td>\n",
       "    </tr>\n",
       "  </tbody>\n",
       "</table>\n",
       "</div>"
      ],
      "text/plain": [
       "    Stat        Value\n",
       "0  count  3946.000000\n",
       "1   mean     0.038105\n",
       "2    std     0.158799\n",
       "3    min     0.000000\n",
       "4    25%     0.000000\n",
       "5    50%     0.000000\n",
       "6    75%     0.000000\n",
       "7    max     1.000000"
      ]
     },
     "execution_count": 10,
     "metadata": {},
     "output_type": "execute_result"
    }
   ],
   "source": [
    "false_exo_stats = false_exo_df['koi_score'].describe()\n",
    "false_exo_stats = false_exo_stats.to_frame()\n",
    "false_exo_stats.reset_index(inplace=True)\n",
    "false_exo_stats.rename(columns={'index':'Stat', 'koi_score':'Value'}, inplace=True)\n",
    "false_exo_stats"
   ]
  },
  {
   "cell_type": "code",
   "execution_count": 11,
   "id": "1f3a8114",
   "metadata": {},
   "outputs": [
    {
     "data": {
      "image/png": "[encoded data removed]",
      "text/plain": [
       "<Figure size 432x288 with 1 Axes>"
      ]
     },
     "metadata": {
      "needs_background": "light"
     },
     "output_type": "display_data"
    }
   ],
   "source": [
    "# plot a table \n",
    "fig, ax = plt.subplots()\n",
    "\n",
    "# hide the axis\n",
    "fig.patch.set_visible(False)\n",
    "ax.axis('off')\n",
    "ax.axis('tight')\n",
    "\n",
    "#create the table\n",
    "table = ax.table(cellText=false_exo_stats.values, colLabels = false_exo_stats.columns, loc='center')\n",
    "\n",
    "# disply and save the table\n",
    "name = \"Koi Score Stats (False Positive)\"\n",
    "plt.title(name, y=1.0, pad=-60)\n",
    "fig.tight_layout()\n",
    "plt.savefig('./graphs/koi_score_false_positive_stats.jpg', bbox_inches=\"tight\", dpi=300)\n",
    "plt.show()"
   ]
  },
  {
   "cell_type": "code",
   "execution_count": null,
   "id": "8ae9961d",
   "metadata": {},
   "outputs": [],
   "source": []
  }
 ],
 "metadata": {
  "kernelspec": {
   "display_name": "Python 3",
   "language": "python",
   "name": "python3"
  },
  "language_info": {
   "codemirror_mode": {
    "name": "ipython",
    "version": 3
   },
   "file_extension": ".py",
   "mimetype": "text/x-python",
   "name": "python",
   "nbconvert_exporter": "python",
   "pygments_lexer": "ipython3",
   "version": "3.8.8"
  }
 },
 "nbformat": 4,
 "nbformat_minor": 5
}
